{
  "cells": [
    {
      "cell_type": "markdown",
      "metadata": {
        "id": "view-in-github",
        "colab_type": "text"
      },
      "source": [
        "<a href=\"https://colab.research.google.com/github/lipchenko/lipchenko_HSE_student/blob/main/Class2.ipynb\" target=\"_parent\"><img src=\"https://colab.research.google.com/assets/colab-badge.svg\" alt=\"Open In Colab\"/></a>"
      ]
    },
    {
      "cell_type": "code",
      "source": [
        "birth = int(input(\"Введите год рождения: \"))\n",
        "nowadays = int(input(\"Введите нынешний год:\"))\n",
        "age_user = nowadays - birth\n",
        "print(age_user)\n",
        "\n",
        "\n",
        "\n",
        "\n",
        "rubles = int(input(\"Введите сумму в рублях:\"))\n",
        "dollars = int(input(\"Введите курс доллара: \"))\n",
        "course = rubles/dollars\n",
        "print (course)\n",
        "\n",
        "\n",
        "\n",
        "money = int(input(\"Введите сумму денег: \"))\n",
        "\n",
        "thousands = money // 1000\n",
        "hundreds = (money % 100)// 100\n",
        "tens = (money % 100) // 10\n",
        "units = money % 10\n",
        "\n",
        "print(thousands, hundreds, tens, units)\n"
      ],
      "metadata": {
        "colab": {
          "base_uri": "https://localhost:8080/"
        },
        "id": "Z4OtOmfp9U_X",
        "outputId": "aa2f1a95-a5cf-444e-9d66-1467e4f7486e"
      },
      "execution_count": 3,
      "outputs": [
        {
          "output_type": "stream",
          "name": "stdout",
          "text": [
            "Введите год рождения: 2000\n",
            "Введите нынешний год:2025\n",
            "25\n",
            "Введите сумму в рублях:5000\n",
            "Введите курс доллара: 75\n",
            "66.66666666666667\n",
            "Введите сумму денег: 3875\n",
            "3 0 7 5\n"
          ]
        }
      ]
    },
    {
      "cell_type": "code",
      "source": [
        "print(\"=== USER INFORMATION ===\")\n",
        "\n",
        "# Создание визуальных разделителей\n",
        "separator = \"=\" * 50\n",
        "subseparator = \"-\" * 30\n",
        "print(separator)\n",
        "print (\"User 1\")\n",
        "print (subseparator)\n",
        "user = \"User: Andrew\"\n",
        "action = \"Action: login\"\n",
        "status = \"Status: SUCCESS\"\n",
        "timestamp = \"15 Sep 2025\"\n",
        "\n",
        "log_line1 = timestamp + \" >> \" + user + \"\\n\"\n",
        "log_line2 = timestamp + \" >>\" + action + \"\\n\"\n",
        "log_line3 = timestamp + \">>\" + status + \"\\n\"\n",
        "\n",
        "\n",
        "print(log_line1,log_line2,log_line3)\n",
        "print (subseparator)\n",
        "print (\"User 2\")\n",
        "print(separator)"
      ],
      "metadata": {
        "colab": {
          "base_uri": "https://localhost:8080/"
        },
        "id": "o0UwCMfvAc_I",
        "outputId": "8ab2aa87-b2bb-48eb-92a1-b5ce1c524a1c"
      },
      "execution_count": 5,
      "outputs": [
        {
          "output_type": "stream",
          "name": "stdout",
          "text": [
            "=== USER INFORMATION ===\n",
            "==================================================\n",
            "User 1\n",
            "------------------------------\n",
            "15 Sep 2025 >> User: Andrew\n",
            " 15 Sep 2025 >>Action: login\n",
            " 15 Sep 2025>>Status: SUCCESS\n",
            "\n",
            "------------------------------\n",
            "User 2\n",
            "==================================================\n"
          ]
        }
      ]
    },
    {
      "cell_type": "code",
      "source": [
        "# Работа с карточкой пользователя\n",
        "print(\"=== КАРТОЧКА ПОЛЬЗОВАТЕЛЯ ===\")\n",
        "\n",
        "user_card = \"USR-2024-0015-ALICE-PRO-DATA_SCIENCE\"\n",
        "\n",
        "# Извлекаем информацию через срезы\n",
        "user_id = user_card[:13]           # USR-2024-0015\n",
        "user_year = user_card[4:8]          # 2024\n",
        "user_number = user_card[9:13]       # 0015\n",
        "username = user_card[14:19]         # ALICE\n",
        "user_level = user_card[-16:-13]       # PRO\n",
        "specialization = user_card[-12:]     # DATA_SCIENCE\n",
        "\n",
        "# Форматируем красивый вывод\n",
        "profile = f\"\"\"\n",
        "ПРОФИЛЬ ПОЛЬЗОВАТЕЛЯ\n",
        "{'-'*30}\n",
        "ID: {user_id}\n",
        "Год регистрации: {user_year}\n",
        "Номер: {user_number}\n",
        "Имя: {username.title()}\n",
        "Уровень: {user_level}\n",
        "Специализация: {specialization.replace('_', ' ').title()}\n",
        "\"\"\"\n",
        "\n",
        "print(profile)\n",
        "\n",
        "# Альтернатива через срезы с шагом (каждый 3-й символ)\n",
        "print(f\"Код доступа: {user_card[::3]}\")\n",
        "\n",
        "print(\"=== АНАЛИЗ БЛОКЧЕЙН-АДРЕСА ===\")\n",
        "\n",
        "wallet_address = \"0x1a2b3c4d5e6f7890abc123def456ghi789jkl012mno345pqr678stu901vwx234yz\"\n",
        "\n",
        "# Извлекаем критически важные части адреса\n",
        "protocol = wallet_address[:2]          # первые 2 символа\n",
        "checksum = wallet_address[2:10]         # от 2 до 10 символа\n",
        "user_identifier = wallet_address[10:20] # от 10 до 20\n",
        "network_marker = wallet_address[:-8]   # последние 8 символов\n",
        "\n",
        "print(f\"Протокол: {protocol}\")\n",
        "print(f\"Контрольная сумма: {checksum}\")\n",
        "print(f\"ID пользователя: {user_identifier}\")\n",
        "print(f\"Маркер сети: {network_marker}\")\n",
        "\n",
        "# Секретный код через каждый 4-й символ\n",
        "secret_pattern = wallet_address[::4]\n",
        "print(f\"Секретный паттерн: {secret_pattern}\")\n",
        "\n",
        "print(\"=== ГЕНЕРАТОР УМНЫХ ПАРОЛЕЙ ===\")\n",
        "\n",
        "base_string = \"AaBbCcDdEeFfGgHhIiJjKkLlMmNnOoPpQqRrSsTtUuVvWwXxYyZz0123456789!@#$%^&*\"\n",
        "\n",
        "# Генерируем пароли разной сложности через срезы\n",
        "simple_password = base_string[::8]     # Каждый 8-й символ\n",
        "medium_password = base_string[5:40:3]  # С 5-го по 40-й, каждый 3-й\n",
        "complex_password = base_string[10::2][0:30:5] # Комбинация: c 10го каждый второй + с 0 по 30, каждый 5ый\n",
        "\n",
        "print(f\"Уровни паролей:\")\n",
        "print(f\"Простой: {simple_password}\")\n",
        "print(f\"Средний: {medium_password}\")\n",
        "print(f\"Сложный: {complex_password}\")\n",
        "\n",
        "print(\"=== АНАЛИЗ ВРЕМЕННЫХ МЕТОК ===\")\n",
        "\n",
        "# Лог с временными метками\n",
        "timestamps = [\n",
        "    \"2024-01-15T10:30:25Z\",\n",
        "    \"2024-01-15T10:31:10Z\",\n",
        "    \"2024-01-15T10:32:45Z\",\n",
        "    \"2024-01-15T10:33:20Z\"\n",
        "]\n",
        "\n",
        "print(\"Анализ временных меток:\")\n",
        "for ts in timestamps:\n",
        "    date = ts[0:10]         # 2024-01-15\n",
        "    time = ts[11:19]       # 10:30:25\n",
        "    hour = ts[11:13]        # 10\n",
        "    minute = ts[14:16]    # 30\n",
        "\n",
        "    print(f\"{date} : {time} (час: {hour}, минута: {minute})\")\n",
        "\n",
        "\n"
      ],
      "metadata": {
        "colab": {
          "base_uri": "https://localhost:8080/"
        },
        "id": "SqjHN1h39VbO",
        "outputId": "57358ee0-1eb4-4d52-8b00-965c1a530e72"
      },
      "execution_count": 6,
      "outputs": [
        {
          "output_type": "stream",
          "name": "stdout",
          "text": [
            "=== КАРТОЧКА ПОЛЬЗОВАТЕЛЯ ===\n",
            "\n",
            "ПРОФИЛЬ ПОЛЬЗОВАТЕЛЯ\n",
            "------------------------------\n",
            "ID: USR-2024-0015\n",
            "Год регистрации: 2024\n",
            "Номер: 0015\n",
            "Имя: Alice\n",
            "Уровень: PRO\n",
            "Специализация: Data Science\n",
            "\n",
            "Код доступа: U-205LERDACN\n",
            "=== АНАЛИЗ БЛОКЧЕЙН-АДРЕСА ===\n",
            "Протокол: 0x\n",
            "Контрольная сумма: 1a2b3c4d\n",
            "ID пользователя: 5e6f7890ab\n",
            "Маркер сети: 0x1a2b3c4d5e6f7890abc123def456ghi789jkl012mno345pqr678stu901\n",
            "Секретный паттерн: 02469cd5ij1op7uv3\n",
            "=== ГЕНЕРАТОР УМНЫХ ПАРОЛЕЙ ===\n",
            "Уровни паролей:\n",
            "Простой: AEIMQUY4#\n",
            "Средний: cEfHiKlNoQrT\n",
            "Сложный: FKPUZ8\n",
            "=== АНАЛИЗ ВРЕМЕННЫХ МЕТОК ===\n",
            "Анализ временных меток:\n",
            "2024-01-15 : 10:30:25 (час: 10, минута: 30)\n",
            "2024-01-15 : 10:31:10 (час: 10, минута: 31)\n",
            "2024-01-15 : 10:32:45 (час: 10, минута: 32)\n",
            "2024-01-15 : 10:33:20 (час: 10, минута: 33)\n"
          ]
        }
      ]
    },
    {
      "cell_type": "code",
      "source": [
        "print(\"=== ФИНАНСОВЫЙ ОТЧЕТ ===\")\n",
        "\n",
        "company = \"ООО 'Рога и копыта'\"\n",
        "quarter = 4\n",
        "year = 2023\n",
        "revenue = 15000000.5678\n",
        "expenses = 9000000.1234\n",
        "profit = revenue - expenses\n",
        "profit_margin = (profit / revenue) * 100\n",
        "separator = \"-\" * 60\n",
        "print(f'{company}\\nОТЧЕТ ЗА\\n{quarter}\\nКВАРТАЛ{year}ГОДА\\n{separator}\\nВыручка:{revenue}\\nРасходы:{expenses}\\nПрибыль:{profit}\\nРентабельность:{profit_margin}')\n",
        "\"\"\"\n",
        "=== ФИНАНСОВЫЙ ОТЧЕТ ===\n",
        "\n",
        "ООО 'РОГА И КОПЫТА'\n",
        "ОТЧЕТ ЗА 4-Й КВАРТАЛ 2023 ГОДА\n",
        "--------------------------------------------------\n",
        "Выручка:            15,000,000.57 ₽\n",
        "Расходы:             9,000,000.12 ₽\n",
        "Прибыль:             6,000,000.44 ₽\n",
        "Рентабельность:             40.0 %\n",
        "\"\"\"\n",
        "\n",
        "print(\"=== ПРОГРЕСС ВЫПОЛНЕНИЯ ЗАДАЧ ===\")\n",
        "\n",
        "total_tasks = 150\n",
        "completed_tasks = 87\n",
        "progress = (completed_tasks / total_tasks) * 100\n",
        "\n",
        "# Создайте строку прогресс-бара\n",
        "bar_length = 30\n",
        "filled_length = int(bar_length * completed_tasks // total_tasks)\n",
        "bar = '█' * filled_length + '░' * (bar_length - filled_length)\n",
        "print(bar, int(progress))\n",
        "print (f\"Завершено: {completed_tasks}/{total_tasks} задач\")\n",
        "\"\"\"\n",
        "=== ПРОГРЕСС ВЫПОЛНЕНИЯ ЗАДАЧ ===\n",
        "\n",
        "ВЫПОЛНЕНИЕ ЗАДАЧ:\n",
        "[█████████████████░░░░░░░░░░░░░] 58.0%\n",
        "Завершено: 87/150 задач\n",
        "\"\"\"\n",
        "\n"
      ],
      "metadata": {
        "colab": {
          "base_uri": "https://localhost:8080/",
          "height": 261
        },
        "id": "JYgAGWryEiui",
        "outputId": "822763d5-2885-47e7-9d73-6d127cc383fb"
      },
      "execution_count": 7,
      "outputs": [
        {
          "output_type": "stream",
          "name": "stdout",
          "text": [
            "=== ФИНАНСОВЫЙ ОТЧЕТ ===\n",
            "ООО 'Рога и копыта'\n",
            "ОТЧЕТ ЗА\n",
            "4\n",
            "КВАРТАЛ2023ГОДА\n",
            "------------------------------------------------------------\n",
            "Выручка:15000000.5678\n",
            "Расходы:9000000.1234\n",
            "Прибыль:6000000.444399999\n",
            "Рентабельность:40.000001448533276\n",
            "=== ПРОГРЕСС ВЫПОЛНЕНИЯ ЗАДАЧ ===\n",
            "█████████████████░░░░░░░░░░░░░ 57\n",
            "Завершено: 87/150 задач\n"
          ]
        },
        {
          "output_type": "execute_result",
          "data": {
            "text/plain": [
              "'\\n=== ПРОГРЕСС ВЫПОЛНЕНИЯ ЗАДАЧ ===\\n\\nВЫПОЛНЕНИЕ ЗАДАЧ:\\n[█████████████████░░░░░░░░░░░░░] 58.0%\\nЗавершено: 87/150 задач\\n'"
            ],
            "application/vnd.google.colaboratory.intrinsic+json": {
              "type": "string"
            }
          },
          "metadata": {},
          "execution_count": 7
        }
      ]
    }
  ],
  "metadata": {
    "colab": {
      "provenance": [],
      "include_colab_link": true
    },
    "kernelspec": {
      "display_name": "Python 3",
      "name": "python3"
    }
  },
  "nbformat": 4,
  "nbformat_minor": 0
}