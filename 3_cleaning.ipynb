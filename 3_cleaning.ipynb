{
  "nbformat": 4,
  "nbformat_minor": 0,
  "metadata": {
    "colab": {
      "provenance": [],
      "include_colab_link": true
    },
    "kernelspec": {
      "name": "python3",
      "display_name": "Python 3"
    },
    "language_info": {
      "name": "python"
    }
  },
  "cells": [
    {
      "cell_type": "markdown",
      "metadata": {
        "id": "view-in-github",
        "colab_type": "text"
      },
      "source": [
        "<a href=\"https://colab.research.google.com/github/lipchenko/lipchenko_HSE_student/blob/main/3_cleaning.ipynb\" target=\"_parent\"><img src=\"https://colab.research.google.com/assets/colab-badge.svg\" alt=\"Open In Colab\"/></a>"
      ]
    },
    {
      "cell_type": "markdown",
      "source": [
        "**Data Cleaning** (чистка данных) - этап предварительной обработки данных для анализа данных и машинного обучения.\n",
        "\n",
        "**Примеры Data Cleaning:**\n",
        "- удаление избыточных столбцов из табличных данных;\n",
        "- приведение текста к нижнему регистру;\n",
        "- чистка текста от HTML-артефактов\n",
        "\n",
        "Загрузим тренировочный датасет, почистим его и проанализируем результаты."
      ],
      "metadata": {
        "id": "Vl6M3rDU5XhG"
      }
    },
    {
      "cell_type": "markdown",
      "source": [
        "# Задание 1: Загрузка данных\n",
        "\n",
        "Загрузим тренировочный датасет и посмотрим на наши данные.\n",
        "\n",
        "Представим, что мы загрузили статью в формате HTML.\n",
        "\n",
        "Скачаем ее и выведем на экран первые 100 символов с помощью слайсинга (среза)."
      ],
      "metadata": {
        "id": "LK_zsNv26Tsk"
      }
    },
    {
      "cell_type": "code",
      "source": [
        "# загружаем тренировочные данные\n",
        "!wget https://raw.githubusercontent.com/vifirsanova/hse-python-course/main/data/data_cleaning.txt"
      ],
      "metadata": {
        "colab": {
          "base_uri": "https://localhost:8080/"
        },
        "id": "tbak8zIx8i6_",
        "outputId": "f836c613-8348-4449-d2f6-573279bf9369"
      },
      "execution_count": null,
      "outputs": [
        {
          "output_type": "stream",
          "name": "stdout",
          "text": [
            "--2025-10-18 21:26:45--  https://raw.githubusercontent.com/vifirsanova/hse-python-course/main/data/data_cleaning.txt\n",
            "Resolving raw.githubusercontent.com (raw.githubusercontent.com)... 185.199.109.133, 185.199.108.133, 185.199.111.133, ...\n",
            "Connecting to raw.githubusercontent.com (raw.githubusercontent.com)|185.199.109.133|:443... connected.\n",
            "HTTP request sent, awaiting response... 200 OK\n",
            "Length: 2377 (2.3K) [text/plain]\n",
            "Saving to: ‘data_cleaning.txt’\n",
            "\n",
            "\rdata_cleaning.txt     0%[                    ]       0  --.-KB/s               \rdata_cleaning.txt   100%[===================>]   2.32K  --.-KB/s    in 0s      \n",
            "\n",
            "2025-10-18 21:26:45 (40.0 MB/s) - ‘data_cleaning.txt’ saved [2377/2377]\n",
            "\n"
          ]
        }
      ]
    },
    {
      "cell_type": "code",
      "source": [
        "# запишем данные в переменную data\n",
        "with open('data_cleaning.txt', 'r') as f:\n",
        "  data = f.read()"
      ],
      "metadata": {
        "id": "OJ68oc8E8r9P"
      },
      "execution_count": null,
      "outputs": []
    },
    {
      "cell_type": "code",
      "source": [
        "# выведите на экран первые 100 символов с помощью слайсинга\n",
        "print (data [:100])\n",
        "\n",
        "### ваш код здесь ###"
      ],
      "metadata": {
        "colab": {
          "base_uri": "https://localhost:8080/"
        },
        "id": "EZ9GtP8s86V8",
        "outputId": "cfad46ef-6b35-4058-9878-d8f7754a6b38"
      },
      "execution_count": null,
      "outputs": [
        {
          "output_type": "stream",
          "name": "stdout",
          "text": [
            "<!DOCTYPE html>\n",
            "<html>\n",
            "<head>\n",
            "    <title>Sample HTML Document</title>\n",
            "</head>\n",
            "<body>\n",
            "    <h1>Welcome\n"
          ]
        }
      ]
    },
    {
      "cell_type": "markdown",
      "source": [
        "# Задание 2: Удаление артефактов\n",
        "\n",
        "В данных много артефактов - HTML-тегов.\n",
        "\n",
        "Удалим HTML-артефакты с помощью регулярных выражений RegEx"
      ],
      "metadata": {
        "id": "XIGQ9xGQ6t1U"
      }
    },
    {
      "cell_type": "code",
      "source": [
        "# пропишем паттерн для поиска HTML-тегов вида <tag> ... </tag>\n",
        "import re   # загрузим библиотеку для обработки регулярных выражений\n",
        "\n",
        "tag_pattern = r'<[^>]+>'    # паттерн для поиска тегов"
      ],
      "metadata": {
        "id": "aQ0ka1oq9uVz"
      },
      "execution_count": null,
      "outputs": []
    },
    {
      "cell_type": "markdown",
      "source": [
        "Используйте функцию `re.sub` (substitution) для чистки данных\n",
        "\n",
        "`re.sub` ищет в строке `string` соответствия RegEx-паттерну `pattern` и меняет найденное на указанную строку `repl`\n",
        "\n",
        "Как используем функцию: `re.sub(pattern, repl, string)`\n",
        "\n",
        "- `pattern` - паттерн RegEx, соответствия которому будет искать функция\n",
        "- `repl` - на что будем менять найденные соответствия\n",
        "- `string` - где будем искать, наш датасет\n",
        "\n",
        "Запишите результат в переменную `clean_text` и выведите на экран с 720-го по 800-ый символ очищенного текста\n",
        "\n",
        "Используйте слайсинг"
      ],
      "metadata": {
        "id": "h8oleHAo_UaY"
      }
    },
    {
      "cell_type": "code",
      "source": [
        "import re\n",
        "pattern = r'<[^>]+>'\n",
        "string = data\n",
        "repl = \"\"\n",
        "clean_text = re.sub(pattern, repl, string)\n",
        "print(clean_text[720:800])\n",
        "\n",
        "# Подсказки:\n",
        "# используйте паттерн, записанный в переменную tag_pattern\n",
        "# замените результат на пустую строку \"\"\n",
        "### ваш код здесь: примените re.sub ###\n",
        "### ваш код здесь: выведите результат с 720-го по 800-ый символ ###"
      ],
      "metadata": {
        "colab": {
          "base_uri": "https://localhost:8080/"
        },
        "id": "DjqjGi8P-H6O",
        "outputId": "9ee9459c-7de9-4250-b776-79b88566764e"
      },
      "execution_count": null,
      "outputs": [
        {
          "output_type": "stream",
          "name": "stdout",
          "text": [
            " It's crucial to handle HTML entities such as &lt;div&gt;, &lt;p&gt;, &amp;, etc\n"
          ]
        }
      ]
    },
    {
      "cell_type": "markdown",
      "source": [
        "Мы удалили не все специальные символы HTML\n",
        "\n",
        "Создадим еще один паттерн и повторим процедуру"
      ],
      "metadata": {
        "id": "fZAWGBC7Ajr7"
      }
    },
    {
      "cell_type": "code",
      "source": [
        "symbols_pattern = r'&\\w+;'    # паттерн для поиска специальных символов"
      ],
      "metadata": {
        "id": "jIftruIgBuQj"
      },
      "execution_count": null,
      "outputs": []
    },
    {
      "cell_type": "markdown",
      "source": [
        "Используйте `re.sub` для удаления этих символов\n",
        "\n",
        "Теперь функция принимает на вход паттерн `symbols_pattern` и текст `clean_text`\n",
        "\n",
        "Перезапишите переменную `clean_text`\n",
        "\n",
        "Выведите на экран с 720-го по 800-ый символ, чтобы убедиться в том, что чистка прошла успешно"
      ],
      "metadata": {
        "id": "LJ19ehiFB5d6"
      }
    },
    {
      "cell_type": "code",
      "source": [
        "import re\n",
        "symbols_pattern = r'&\\w+;'\n",
        "string = clean_text\n",
        "repl = \"\"\n",
        "clean_text = re.sub(symbols_pattern, repl, string)\n",
        "print(clean_text[720:800])\n",
        "\n",
        "### ваш код здесь: выведите результат с 720-го по 800-ый символ ###"
      ],
      "metadata": {
        "colab": {
          "base_uri": "https://localhost:8080/"
        },
        "id": "UsX39hWDCLR6",
        "outputId": "7bbf9622-ce1e-4a9c-b879-4930e9f2dc43"
      },
      "execution_count": null,
      "outputs": [
        {
          "output_type": "stream",
          "name": "stdout",
          "text": [
            " It's crucial to handle HTML entities such as div, p, , etc. HTML entities are s\n"
          ]
        }
      ]
    },
    {
      "cell_type": "markdown",
      "source": [
        "В нашем тексте остались двойные пробелы\n",
        "\n",
        "Уберем им с помощью очередного паттерна"
      ],
      "metadata": {
        "id": "mP70Rf3oCKNZ"
      }
    },
    {
      "cell_type": "code",
      "source": [
        "import re\n",
        "pattern = r'\\s+'\n",
        "string = clean_text\n",
        "repl = \"\"\n",
        "re.sub(pattern,repl,string)\n",
        "clean_text [:100]\n",
        "# выведите на экран первые 100 символов вашего текущего результата\n",
        "# на этот раз не используйте print\n",
        "### ваш код здесь"
      ],
      "metadata": {
        "id": "GMGJDpaEDHx5",
        "colab": {
          "base_uri": "https://localhost:8080/",
          "height": 36
        },
        "outputId": "93823794-c6a3-4d60-adaa-92821e027ab2"
      },
      "execution_count": null,
      "outputs": [
        {
          "output_type": "execute_result",
          "data": {
            "text/plain": [
              "'\\n\\n\\n    Sample HTML Document\\n\\n\\n    Welcome to Data Cleaning\\n    This is a sample paragraph with HTML '"
            ],
            "application/vnd.google.colaboratory.intrinsic+json": {
              "type": "string"
            }
          },
          "metadata": {},
          "execution_count": 10
        }
      ]
    },
    {
      "cell_type": "markdown",
      "source": [
        "Создаем паттерн для поиска двойных пробелов\n",
        "\n",
        "Повторите процедуру, перезапишите результат в `clean_text` и выведите первые 100 символов\n",
        "\n",
        "Что мы запишем в переменную `repl`, чтобы не удалить абсолютно все пробелы?"
      ],
      "metadata": {
        "id": "GpgXBzMxDicX"
      }
    },
    {
      "cell_type": "code",
      "source": [
        "space_pattern =r'\\s+'\n",
        "string = clean_text\n",
        "repl =\" \"\n",
        "new_text = re.sub(pattern,repl,string)\n",
        "new_text.strip()[:100]\n",
        "\n",
        "### ваш код здесь: примените re.sub ###\n",
        "### ваш код здесь: выведите первые 100 символов, не используя print ###"
      ],
      "metadata": {
        "colab": {
          "base_uri": "https://localhost:8080/",
          "height": 36
        },
        "id": "aQ-ZqbEcDcIE",
        "outputId": "46837db6-660c-4566-a863-908198a30aca"
      },
      "execution_count": null,
      "outputs": [
        {
          "output_type": "execute_result",
          "data": {
            "text/plain": [
              "'Sample HTML Document Welcome to Data Cleaning This is a sample paragraph with HTML artifacts such as'"
            ],
            "application/vnd.google.colaboratory.intrinsic+json": {
              "type": "string"
            }
          },
          "metadata": {},
          "execution_count": 11
        }
      ]
    },
    {
      "cell_type": "markdown",
      "source": [
        "# Задание 3: Смена регистра\n",
        "\n",
        "Приведем все слова к нижнему регистру с помощью функции `lower`\n",
        "\n",
        "Запишем результат в переменную `text_lower` и выведем на экран последние 100 символов"
      ],
      "metadata": {
        "id": "Hwtj4l2x6bwS"
      }
    },
    {
      "cell_type": "code",
      "source": [
        "text_lower = new_text.lower()\n",
        "print(f'{text_lower[-100:]}')\n",
        "### ваш код здесь: выведите первые 100 символов с конца, используйте слайсинг и не забудьте про - ###"
      ],
      "metadata": {
        "colab": {
          "base_uri": "https://localhost:8080/"
        },
        "id": "NbmH8JL0EPeg",
        "outputId": "a4706896-643d-48d2-b32b-92d81e55f900"
      },
      "execution_count": null,
      "outputs": [
        {
          "output_type": "stream",
          "name": "stdout",
          "text": [
            "e learning models, making predictions, or generating insights to support decision-making processes. \n"
          ]
        }
      ]
    },
    {
      "cell_type": "markdown",
      "source": [
        "# Задание 4: Удаление стоп-слов\n",
        "\n",
        "Удалим частотные слова, которые создают шум для решения задач\n",
        "\n",
        "Загрузим список стоп-слов"
      ],
      "metadata": {
        "id": "vkxdtN1Q6mwU"
      }
    },
    {
      "cell_type": "code",
      "source": [
        "!wget https://raw.githubusercontent.com/vifirsanova/hse-python-course/main/data/stopwords.txt"
      ],
      "metadata": {
        "colab": {
          "base_uri": "https://localhost:8080/"
        },
        "id": "8ypsKpKBE6T-",
        "outputId": "5ea1d03d-e865-447c-c9ba-41fbe1498c91"
      },
      "execution_count": null,
      "outputs": [
        {
          "output_type": "stream",
          "name": "stdout",
          "text": [
            "--2025-10-18 21:27:09--  https://raw.githubusercontent.com/vifirsanova/hse-python-course/main/data/stopwords.txt\n",
            "Resolving raw.githubusercontent.com (raw.githubusercontent.com)... 185.199.108.133, 185.199.109.133, 185.199.110.133, ...\n",
            "Connecting to raw.githubusercontent.com (raw.githubusercontent.com)|185.199.108.133|:443... connected.\n",
            "HTTP request sent, awaiting response... 200 OK\n",
            "Length: 954 [text/plain]\n",
            "Saving to: ‘stopwords.txt’\n",
            "\n",
            "\rstopwords.txt         0%[                    ]       0  --.-KB/s               \rstopwords.txt       100%[===================>]     954  --.-KB/s    in 0s      \n",
            "\n",
            "2025-10-18 21:27:09 (47.0 MB/s) - ‘stopwords.txt’ saved [954/954]\n",
            "\n"
          ]
        }
      ]
    },
    {
      "cell_type": "code",
      "source": [
        "# запишем данные в переменную stopwords\n",
        "with open('stopwords.txt', 'r') as f:\n",
        "  stopwords = f.read().split()"
      ],
      "metadata": {
        "id": "_c1xfdkgFNcg"
      },
      "execution_count": null,
      "outputs": []
    },
    {
      "cell_type": "markdown",
      "source": [
        "Выведите на экран первые 10 стоп-слов"
      ],
      "metadata": {
        "id": "nansznnrFVN-"
      }
    },
    {
      "cell_type": "code",
      "source": [
        "print(f'{stopwords[:10]}')"
      ],
      "metadata": {
        "colab": {
          "base_uri": "https://localhost:8080/"
        },
        "id": "Pctau5NgFYJG",
        "outputId": "17458a3f-b603-44db-8dfc-17b906a81fba"
      },
      "execution_count": null,
      "outputs": [
        {
          "output_type": "stream",
          "name": "stdout",
          "text": [
            "['a', 'about', 'above', 'after', 'again', 'against', 'all', 'am', 'an', 'and']\n"
          ]
        }
      ]
    },
    {
      "cell_type": "markdown",
      "source": [
        "С помощью `random` мы можем \"вытянуть\" из списка стоп-слов случайное слово"
      ],
      "metadata": {
        "id": "7C4R5y63Fqrl"
      }
    },
    {
      "cell_type": "code",
      "source": [
        "import random\n",
        "random.choice(stopwords)"
      ],
      "metadata": {
        "colab": {
          "base_uri": "https://localhost:8080/",
          "height": 36
        },
        "id": "8SX-lcCAFjNc",
        "outputId": "9d792dba-f8eb-48de-f2fb-ec5b26736a70"
      },
      "execution_count": null,
      "outputs": [
        {
          "output_type": "execute_result",
          "data": {
            "text/plain": [
              "'own'"
            ],
            "application/vnd.google.colaboratory.intrinsic+json": {
              "type": "string"
            }
          },
          "metadata": {},
          "execution_count": 16
        }
      ]
    },
    {
      "cell_type": "markdown",
      "source": [
        "\"Вытяните\" еще одно случайное слово и запишите его в переменную `random_word`"
      ],
      "metadata": {
        "id": "tPDPQYYTFwsM"
      }
    },
    {
      "cell_type": "code",
      "source": [
        "import random\n",
        "random_word = random.choices(stopwords)\n",
        "print (random_word)\n"
      ],
      "metadata": {
        "id": "oJkDb27LF75t",
        "colab": {
          "base_uri": "https://localhost:8080/"
        },
        "outputId": "4993a323-823e-4764-8291-89ac1164049f"
      },
      "execution_count": null,
      "outputs": [
        {
          "output_type": "stream",
          "name": "stdout",
          "text": [
            "['himself']\n"
          ]
        }
      ]
    },
    {
      "cell_type": "markdown",
      "source": [
        "Проверьте, есть ли это слово в `text_lower` с помощью `in`\n",
        "\n",
        "Выведите на экран это слово"
      ],
      "metadata": {
        "id": "erv_tjszGZlo"
      }
    },
    {
      "cell_type": "code",
      "source": [
        "print(f'Результат проверки: {str(random_word) in text_lower}')\n",
        "print(f'Случайное слово: {random_word}')\n",
        "\n",
        "\n",
        "### ваш код здесь: вывод на экран текста \"Результат проверки:\" и проверки с in ###\n",
        "### ваш код здесь: вывод текста \"Случайное слово:\" и random_word ###"
      ],
      "metadata": {
        "colab": {
          "base_uri": "https://localhost:8080/"
        },
        "id": "j2NJtaSOGBDT",
        "outputId": "a20fed32-1c3e-44ba-e610-afbd6c5dda67"
      },
      "execution_count": null,
      "outputs": [
        {
          "output_type": "stream",
          "name": "stdout",
          "text": [
            "Результат проверки: False\n",
            "Случайное слово: ['himself']\n"
          ]
        }
      ]
    },
    {
      "cell_type": "markdown",
      "source": [
        "Попробуйте сгенерировать еще несколько слов и проверить их наличие в `text_lower`\n",
        "\n",
        "Для этого запустите повторно две последние ячейки"
      ],
      "metadata": {
        "id": "VBJJHLvrHCCO"
      }
    },
    {
      "cell_type": "code",
      "source": [
        "\"\"\"\n",
        "Вот так будет выглядеть текст после удаления стоп-слов _без_ токенизации\n",
        "Заменятся все аналогичные сочетания знаков\n",
        "Поэтому перед _удалением_ стоп-слов, проведем токенизацию\n",
        "\"\"\""
      ],
      "metadata": {
        "colab": {
          "base_uri": "https://localhost:8080/",
          "height": 53
        },
        "id": "gY7oeXTXGW0D",
        "outputId": "5004af55-4151-457d-a110-6f304a4569f7"
      },
      "execution_count": null,
      "outputs": [
        {
          "output_type": "execute_result",
          "data": {
            "text/plain": [
              "'\\nВот так будет выглядеть текст после удаления стоп-слов _без_ токенизации\\nЗаменятся все аналогичные сочетания знаков\\nПоэтому перед _удалением_ стоп-слов, проведем токенизацию\\n'"
            ],
            "application/vnd.google.colaboratory.intrinsic+json": {
              "type": "string"
            }
          },
          "metadata": {},
          "execution_count": 20
        }
      ]
    },
    {
      "cell_type": "markdown",
      "source": [
        "# Задание 5: Токенизация\n",
        "\n",
        "Токенизируем датасет для дальнейшей работы\n",
        "\n",
        "Создадим 2 набора токенов: с сегментацией по предложениям и с сегментацией по словам"
      ],
      "metadata": {
        "id": "Mepvb0Kw7Ncq"
      }
    },
    {
      "cell_type": "markdown",
      "source": [
        "Создайте переменную `sentences`\n",
        "\n",
        "С помощью `split` разделите текст на предложения (сегменты, разделенные знаком `.`)\n",
        "\n",
        "Выведите на экран первые 10 элементов `sentences`"
      ],
      "metadata": {
        "id": "Me63a7SNLa6C"
      }
    },
    {
      "cell_type": "code",
      "source": [
        "sentences = text_lower.split('.')\n",
        "print (f'{sentences[0:10]}')\n",
        "### ваш код здесь: split для сегментации по знаку `.` ###\n",
        "### вывод на экран первых 10 предложений ###"
      ],
      "metadata": {
        "colab": {
          "base_uri": "https://localhost:8080/"
        },
        "id": "8G13fM_27M1t",
        "outputId": "359a3782-e1c2-4a0d-a9f0-5cacfac79a6c"
      },
      "execution_count": null,
      "outputs": [
        {
          "output_type": "stream",
          "name": "stdout",
          "text": [
            "[' sample html document welcome to data cleaning this is a sample paragraph with html artifacts such as bold and italic text', ' data cleaning is an essential process in preparing data for analysis', ' it involves various techniques to clean, transform, and preprocess data', ' in data cleaning, it\\'s important to remove stop words like \"the\", \"and\", \"of\", etc', ' stop words are common words that are often filtered out from text data because they do not carry significant meaning', \" here's another paragraph\", ' sometimes text is in uppercase or lowercase', \" it's important to standardize the text case to ensure consistency in the dataset\", ' this can be achieved by converting all text to lowercase or uppercase', \" it's crucial to handle html entities such as div, p, , etc\"]\n"
          ]
        }
      ]
    },
    {
      "cell_type": "markdown",
      "source": [
        "Создайте переменную `tokens`\n",
        "\n",
        "С помощью `split` разделите текст `text_lower` на слова\n",
        "\n",
        "Выведите первые 10 элементов"
      ],
      "metadata": {
        "id": "6J_C8cq0L2rB"
      }
    },
    {
      "cell_type": "code",
      "source": [
        "tokens = (text_lower.split(\" \"))\n",
        "print (f'{tokens[0:10]}')\n",
        "### ваш код здесь: вывод на экран первых 10 слов ###"
      ],
      "metadata": {
        "colab": {
          "base_uri": "https://localhost:8080/"
        },
        "id": "Rj3dXh576a5A",
        "outputId": "f540dbc3-f118-4afb-b488-d76adeea3fa7"
      },
      "execution_count": null,
      "outputs": [
        {
          "output_type": "stream",
          "name": "stdout",
          "text": [
            "['', 'sample', 'html', 'document', 'welcome', 'to', 'data', 'cleaning', 'this', 'is']\n"
          ]
        }
      ]
    },
    {
      "cell_type": "markdown",
      "source": [
        " Удалим стоп-слова"
      ],
      "metadata": {
        "id": "5Q7FfNK9MJ_K"
      }
    },
    {
      "cell_type": "code",
      "source": [
        "clean_tokens = []\n",
        "\n",
        "for token in tokens:  # итерация по списку токенов tokens\n",
        "  if token not in stopwords:  # проверяем отсутствие токена в списке стоп-слов\n",
        "    clean_tokens.append(token)  # добавляем токен в новый очищенный список токенов, если его нет в стоп-словах\n",
        "print (f'{clean_tokens[1:11]}')\n",
        "### ваш код здесь: вывод на экран первых 10 элементов clean_tokens ###"
      ],
      "metadata": {
        "colab": {
          "base_uri": "https://localhost:8080/"
        },
        "id": "QMy-_DNJ0HF3",
        "outputId": "effc715d-3c0d-4599-8c5d-a9c6246a01b0"
      },
      "execution_count": null,
      "outputs": [
        {
          "output_type": "stream",
          "name": "stdout",
          "text": [
            "['sample', 'html', 'document', 'welcome', 'data', 'cleaning', 'sample', 'paragraph', 'html', 'artifacts']\n"
          ]
        }
      ]
    },
    {
      "cell_type": "markdown",
      "source": [
        "# И еще одно задание...\n",
        "\n",
        "В ячейке ниже вы сможете загрузить еще один текст\n",
        "\n",
        "Используйте свой код и код из задания, чтобы\n",
        "\n",
        "1. удалить артефакты (html-теги, специальные символы и двойные пробелы)\n",
        "\n",
        "2. привести текст к нижнему регистру\n",
        "\n",
        "3. токенизировать текст по предложениям\n",
        "\n",
        "4. токенизировать текст по словам\n",
        "\n",
        "5. удалить стоп-слова"
      ],
      "metadata": {
        "id": "0EYfMpHZNUkA"
      }
    },
    {
      "cell_type": "code",
      "source": [
        "!wget https://raw.githubusercontent.com/vifirsanova/hse-python-course/main/extracurricular/artefacts.txt"
      ],
      "metadata": {
        "colab": {
          "base_uri": "https://localhost:8080/"
        },
        "id": "qE6b-OKsNqK_",
        "outputId": "a3cdeef4-4277-4645-85a5-6c63cf0a2f84"
      },
      "execution_count": null,
      "outputs": [
        {
          "output_type": "stream",
          "name": "stdout",
          "text": [
            "--2025-10-18 21:28:18--  https://raw.githubusercontent.com/vifirsanova/hse-python-course/main/extracurricular/artefacts.txt\n",
            "Resolving raw.githubusercontent.com (raw.githubusercontent.com)... 185.199.108.133, 185.199.109.133, 185.199.110.133, ...\n",
            "Connecting to raw.githubusercontent.com (raw.githubusercontent.com)|185.199.108.133|:443... connected.\n",
            "HTTP request sent, awaiting response... 200 OK\n",
            "Length: 845 [text/plain]\n",
            "Saving to: ‘artefacts.txt’\n",
            "\n",
            "\rartefacts.txt         0%[                    ]       0  --.-KB/s               \rartefacts.txt       100%[===================>]     845  --.-KB/s    in 0s      \n",
            "\n",
            "2025-10-18 21:28:19 (48.4 MB/s) - ‘artefacts.txt’ saved [845/845]\n",
            "\n"
          ]
        }
      ]
    },
    {
      "cell_type": "code",
      "source": [
        "# запишем данные в переменную artefacts\n",
        "with open('artefacts.txt', 'r') as f:\n",
        "  artefacts = f.read()"
      ],
      "metadata": {
        "id": "CT7eVLpHOMTQ"
      },
      "execution_count": null,
      "outputs": []
    },
    {
      "cell_type": "code",
      "source": [
        "import re\n",
        "pattern = r'<[^>]+>'\n",
        "string = data\n",
        "repl = \"\"\n",
        "clean_text = re.sub(pattern, repl, string)\n",
        "\n",
        "symbols_pattern = r'&\\w+;'\n",
        "string = clean_text\n",
        "repl = \"\"\n",
        "clean_text = re.sub(symbols_pattern, repl, string)\n",
        "\n",
        "space_pattern =r'\\s+'\n",
        "string = clean_text\n",
        "repl =\"\"\n",
        "new_text = re.sub(pattern,repl,string)\n",
        "print(new_text)\n",
        "\n",
        "little_text = new_text.lower()\n",
        "print (f'{little_text}')\n",
        "\n",
        "\n",
        "sentences = little_text.split('.')\n",
        "print (f'{sentences}')\n",
        "\n",
        "\n",
        "tokens = new_text.split(' ')\n",
        "print (f'{tokens}')\n",
        "\n",
        "\n",
        "with open('stopwords.txt', 'r') as f:\n",
        "  stopwords = f.read().split()\n",
        "\n",
        "clean_tokens = []\n",
        "\n",
        "for token in tokens:  # итерация по списку токенов tokens\n",
        "  if token not in stopwords:  # проверяем отсутствие токена в списке стоп-слов\n",
        "    clean_tokens.append(token)  # добавляем токен в новый очищенный список токенов, если его нет в стоп-словах\n",
        "print (f'{clean_tokens}')"
      ],
      "metadata": {
        "id": "9g-geUOsORlM",
        "colab": {
          "base_uri": "https://localhost:8080/"
        },
        "outputId": "27b186ba-b80a-422c-fe1c-1f9e2dbbcb54"
      },
      "execution_count": null,
      "outputs": [
        {
          "output_type": "stream",
          "name": "stdout",
          "text": [
            "\n",
            "\n",
            "\n",
            "    Sample HTML Document\n",
            "\n",
            "\n",
            "    Welcome to Data Cleaning\n",
            "    This is a sample paragraph with HTML artifacts such as bold and italic text. Data cleaning is an essential process in preparing data for analysis. It involves various techniques to clean, transform, and preprocess data.\n",
            "    In data cleaning, it's important to remove stop words like \"the\", \"and\", \"of\", etc. Stop words are common words that are often filtered out from text data because they do not carry significant meaning.\n",
            "    Here's another paragraph. Sometimes text is in UPPERCASE or lowercase. It's important to standardize the text case to ensure consistency in the dataset. This can be achieved by converting all text to lowercase or uppercase.\n",
            "    It's crucial to handle HTML entities such as div, p, , etc. HTML entities are special characters or symbols that have specific meanings in HTML. They need to be properly handled to avoid issues during data processing.\n",
            "    Data cleaning also involves dealing with missing values. Missing values can occur due to various reasons such as incomplete data collection or data entry errors. It's essential to identify and handle missing values appropriately to avoid bias in the analysis.\n",
            "    Text data often contains noise such as punctuation marks, special characters, and digits. Removing noise from text data is necessary to focus on the meaningful content. Techniques such as regular expressions can be used for noise removal.\n",
            "    Another important aspect of data cleaning is deduplication. Duplicate records in a dataset can skew analysis results and lead to inaccurate conclusions. Identifying and removing duplicate records ensures data integrity and improves the quality of analysis.\n",
            "    After cleaning the data, it's essential to perform exploratory data analysis (EDA) to gain insights and identify patterns. EDA involves visualizing data, computing summary statistics, and exploring relationships between variables.\n",
            "    Once the data is cleaned and analyzed, it can be used for various purposes such as building machine learning models, making predictions, or generating insights to support decision-making processes.\n",
            "\n",
            "\n",
            "\n",
            "\n",
            "\n",
            "\n",
            "    sample html document\n",
            "\n",
            "\n",
            "    welcome to data cleaning\n",
            "    this is a sample paragraph with html artifacts such as bold and italic text. data cleaning is an essential process in preparing data for analysis. it involves various techniques to clean, transform, and preprocess data.\n",
            "    in data cleaning, it's important to remove stop words like \"the\", \"and\", \"of\", etc. stop words are common words that are often filtered out from text data because they do not carry significant meaning.\n",
            "    here's another paragraph. sometimes text is in uppercase or lowercase. it's important to standardize the text case to ensure consistency in the dataset. this can be achieved by converting all text to lowercase or uppercase.\n",
            "    it's crucial to handle html entities such as div, p, , etc. html entities are special characters or symbols that have specific meanings in html. they need to be properly handled to avoid issues during data processing.\n",
            "    data cleaning also involves dealing with missing values. missing values can occur due to various reasons such as incomplete data collection or data entry errors. it's essential to identify and handle missing values appropriately to avoid bias in the analysis.\n",
            "    text data often contains noise such as punctuation marks, special characters, and digits. removing noise from text data is necessary to focus on the meaningful content. techniques such as regular expressions can be used for noise removal.\n",
            "    another important aspect of data cleaning is deduplication. duplicate records in a dataset can skew analysis results and lead to inaccurate conclusions. identifying and removing duplicate records ensures data integrity and improves the quality of analysis.\n",
            "    after cleaning the data, it's essential to perform exploratory data analysis (eda) to gain insights and identify patterns. eda involves visualizing data, computing summary statistics, and exploring relationships between variables.\n",
            "    once the data is cleaned and analyzed, it can be used for various purposes such as building machine learning models, making predictions, or generating insights to support decision-making processes.\n",
            "\n",
            "\n",
            "\n",
            "['\\n\\n\\n    sample html document\\n\\n\\n    welcome to data cleaning\\n    this is a sample paragraph with html artifacts such as bold and italic text', ' data cleaning is an essential process in preparing data for analysis', ' it involves various techniques to clean, transform, and preprocess data', '\\n    in data cleaning, it\\'s important to remove stop words like \"the\", \"and\", \"of\", etc', ' stop words are common words that are often filtered out from text data because they do not carry significant meaning', \"\\n    here's another paragraph\", ' sometimes text is in uppercase or lowercase', \" it's important to standardize the text case to ensure consistency in the dataset\", ' this can be achieved by converting all text to lowercase or uppercase', \"\\n    it's crucial to handle html entities such as div, p, , etc\", ' html entities are special characters or symbols that have specific meanings in html', ' they need to be properly handled to avoid issues during data processing', '\\n    data cleaning also involves dealing with missing values', ' missing values can occur due to various reasons such as incomplete data collection or data entry errors', \" it's essential to identify and handle missing values appropriately to avoid bias in the analysis\", '\\n    text data often contains noise such as punctuation marks, special characters, and digits', ' removing noise from text data is necessary to focus on the meaningful content', ' techniques such as regular expressions can be used for noise removal', '\\n    another important aspect of data cleaning is deduplication', ' duplicate records in a dataset can skew analysis results and lead to inaccurate conclusions', ' identifying and removing duplicate records ensures data integrity and improves the quality of analysis', \"\\n    after cleaning the data, it's essential to perform exploratory data analysis (eda) to gain insights and identify patterns\", ' eda involves visualizing data, computing summary statistics, and exploring relationships between variables', '\\n    once the data is cleaned and analyzed, it can be used for various purposes such as building machine learning models, making predictions, or generating insights to support decision-making processes', '\\n\\n\\n']\n",
            "['\\n\\n\\n', '', '', '', 'Sample', 'HTML', 'Document\\n\\n\\n', '', '', '', 'Welcome', 'to', 'Data', 'Cleaning\\n', '', '', '', 'This', 'is', 'a', 'sample', 'paragraph', 'with', 'HTML', 'artifacts', 'such', 'as', 'bold', 'and', 'italic', 'text.', 'Data', 'cleaning', 'is', 'an', 'essential', 'process', 'in', 'preparing', 'data', 'for', 'analysis.', 'It', 'involves', 'various', 'techniques', 'to', 'clean,', 'transform,', 'and', 'preprocess', 'data.\\n', '', '', '', 'In', 'data', 'cleaning,', \"it's\", 'important', 'to', 'remove', 'stop', 'words', 'like', '\"the\",', '\"and\",', '\"of\",', 'etc.', 'Stop', 'words', 'are', 'common', 'words', 'that', 'are', 'often', 'filtered', 'out', 'from', 'text', 'data', 'because', 'they', 'do', 'not', 'carry', 'significant', 'meaning.\\n', '', '', '', \"Here's\", 'another', 'paragraph.', 'Sometimes', 'text', 'is', 'in', 'UPPERCASE', 'or', 'lowercase.', \"It's\", 'important', 'to', 'standardize', 'the', 'text', 'case', 'to', 'ensure', 'consistency', 'in', 'the', 'dataset.', 'This', 'can', 'be', 'achieved', 'by', 'converting', 'all', 'text', 'to', 'lowercase', 'or', 'uppercase.\\n', '', '', '', \"It's\", 'crucial', 'to', 'handle', 'HTML', 'entities', 'such', 'as', 'div,', 'p,', ',', 'etc.', 'HTML', 'entities', 'are', 'special', 'characters', 'or', 'symbols', 'that', 'have', 'specific', 'meanings', 'in', 'HTML.', 'They', 'need', 'to', 'be', 'properly', 'handled', 'to', 'avoid', 'issues', 'during', 'data', 'processing.\\n', '', '', '', 'Data', 'cleaning', 'also', 'involves', 'dealing', 'with', 'missing', 'values.', 'Missing', 'values', 'can', 'occur', 'due', 'to', 'various', 'reasons', 'such', 'as', 'incomplete', 'data', 'collection', 'or', 'data', 'entry', 'errors.', \"It's\", 'essential', 'to', 'identify', 'and', 'handle', 'missing', 'values', 'appropriately', 'to', 'avoid', 'bias', 'in', 'the', 'analysis.\\n', '', '', '', 'Text', 'data', 'often', 'contains', 'noise', 'such', 'as', 'punctuation', 'marks,', 'special', 'characters,', 'and', 'digits.', 'Removing', 'noise', 'from', 'text', 'data', 'is', 'necessary', 'to', 'focus', 'on', 'the', 'meaningful', 'content.', 'Techniques', 'such', 'as', 'regular', 'expressions', 'can', 'be', 'used', 'for', 'noise', 'removal.\\n', '', '', '', 'Another', 'important', 'aspect', 'of', 'data', 'cleaning', 'is', 'deduplication.', 'Duplicate', 'records', 'in', 'a', 'dataset', 'can', 'skew', 'analysis', 'results', 'and', 'lead', 'to', 'inaccurate', 'conclusions.', 'Identifying', 'and', 'removing', 'duplicate', 'records', 'ensures', 'data', 'integrity', 'and', 'improves', 'the', 'quality', 'of', 'analysis.\\n', '', '', '', 'After', 'cleaning', 'the', 'data,', \"it's\", 'essential', 'to', 'perform', 'exploratory', 'data', 'analysis', '(EDA)', 'to', 'gain', 'insights', 'and', 'identify', 'patterns.', 'EDA', 'involves', 'visualizing', 'data,', 'computing', 'summary', 'statistics,', 'and', 'exploring', 'relationships', 'between', 'variables.\\n', '', '', '', 'Once', 'the', 'data', 'is', 'cleaned', 'and', 'analyzed,', 'it', 'can', 'be', 'used', 'for', 'various', 'purposes', 'such', 'as', 'building', 'machine', 'learning', 'models,', 'making', 'predictions,', 'or', 'generating', 'insights', 'to', 'support', 'decision-making', 'processes.\\n\\n\\n']\n",
            "['\\n\\n\\n', '', '', '', 'Sample', 'HTML', 'Document\\n\\n\\n', '', '', '', 'Welcome', 'Data', 'Cleaning\\n', '', '', '', 'This', 'sample', 'paragraph', 'HTML', 'artifacts', 'bold', 'italic', 'text.', 'Data', 'cleaning', 'essential', 'process', 'preparing', 'data', 'analysis.', 'It', 'involves', 'various', 'techniques', 'clean,', 'transform,', 'preprocess', 'data.\\n', '', '', '', 'In', 'data', 'cleaning,', 'important', 'remove', 'stop', 'words', 'like', '\"the\",', '\"and\",', '\"of\",', 'etc.', 'Stop', 'words', 'common', 'words', 'often', 'filtered', 'text', 'data', 'carry', 'significant', 'meaning.\\n', '', '', '', \"Here's\", 'another', 'paragraph.', 'Sometimes', 'text', 'UPPERCASE', 'lowercase.', \"It's\", 'important', 'standardize', 'text', 'case', 'ensure', 'consistency', 'dataset.', 'This', 'can', 'achieved', 'converting', 'text', 'lowercase', 'uppercase.\\n', '', '', '', \"It's\", 'crucial', 'handle', 'HTML', 'entities', 'div,', 'p,', ',', 'etc.', 'HTML', 'entities', 'special', 'characters', 'symbols', 'specific', 'meanings', 'HTML.', 'They', 'need', 'properly', 'handled', 'avoid', 'issues', 'data', 'processing.\\n', '', '', '', 'Data', 'cleaning', 'also', 'involves', 'dealing', 'missing', 'values.', 'Missing', 'values', 'can', 'occur', 'due', 'various', 'reasons', 'incomplete', 'data', 'collection', 'data', 'entry', 'errors.', \"It's\", 'essential', 'identify', 'handle', 'missing', 'values', 'appropriately', 'avoid', 'bias', 'analysis.\\n', '', '', '', 'Text', 'data', 'often', 'contains', 'noise', 'punctuation', 'marks,', 'special', 'characters,', 'digits.', 'Removing', 'noise', 'text', 'data', 'necessary', 'focus', 'meaningful', 'content.', 'Techniques', 'regular', 'expressions', 'can', 'used', 'noise', 'removal.\\n', '', '', '', 'Another', 'important', 'aspect', 'data', 'cleaning', 'deduplication.', 'Duplicate', 'records', 'dataset', 'can', 'skew', 'analysis', 'results', 'lead', 'inaccurate', 'conclusions.', 'Identifying', 'removing', 'duplicate', 'records', 'ensures', 'data', 'integrity', 'improves', 'quality', 'analysis.\\n', '', '', '', 'After', 'cleaning', 'data,', 'essential', 'perform', 'exploratory', 'data', 'analysis', '(EDA)', 'gain', 'insights', 'identify', 'patterns.', 'EDA', 'involves', 'visualizing', 'data,', 'computing', 'summary', 'statistics,', 'exploring', 'relationships', 'variables.\\n', '', '', '', 'Once', 'data', 'cleaned', 'analyzed,', 'can', 'used', 'various', 'purposes', 'building', 'machine', 'learning', 'models,', 'making', 'predictions,', 'generating', 'insights', 'support', 'decision-making', 'processes.\\n\\n\\n']\n"
          ]
        }
      ]
    },
    {
      "cell_type": "code",
      "source": [
        "full_name = \"иванов иван иванович\"\n",
        "print(f'{full_name[:7].capitalize()}{full_name[7].capitalize()}. {full_name[12].capitalize()}.')"
      ],
      "metadata": {
        "colab": {
          "base_uri": "https://localhost:8080/"
        },
        "id": "_VE2Q48tOWOP",
        "outputId": "45cdfc4f-d31c-418b-ff35-2c4a87ae917e"
      },
      "execution_count": null,
      "outputs": [
        {
          "output_type": "stream",
          "name": "stdout",
          "text": [
            "Иванов И. И.\n"
          ]
        }
      ]
    },
    {
      "cell_type": "code",
      "source": [
        "password = \"Password123\"\n",
        "# Проверьте: # - длину не менее 8 символов\n",
        "assert len(password) >= 8\n",
        "numbers = re.findall(r'\\d+',password)\n",
        "letters = re.findall (r'[A-Z]+',password)\n",
        "print (numbers,letters)\n",
        "# - содержит цифры\n",
        "# - содержит заглавные буквы"
      ],
      "metadata": {
        "colab": {
          "base_uri": "https://localhost:8080/"
        },
        "id": "hDo6Ird6SC7z",
        "outputId": "11737613-fdb6-488e-cfdb-8b2edaca9982"
      },
      "execution_count": null,
      "outputs": [
        {
          "output_type": "stream",
          "name": "stdout",
          "text": [
            "['123'] ['P']\n"
          ]
        }
      ]
    },
    {
      "cell_type": "code",
      "source": [
        "path = \"/home/user/documents/report.pdf\"\n",
        "file = path.split(\"/\")[-1]\n",
        "file_name = file.split(\".\")[0]\n",
        "\n",
        "print (file_name)\n",
        "# Извлеките имя файла без расширения # Ожидаемый вывод: \"report\""
      ],
      "metadata": {
        "colab": {
          "base_uri": "https://localhost:8080/"
        },
        "id": "QvKzXpejXLl8",
        "outputId": "f51951c0-4e2a-4879-adc0-0aa0879c0b19"
      },
      "execution_count": 3,
      "outputs": [
        {
          "output_type": "stream",
          "name": "stdout",
          "text": [
            "report\n"
          ]
        }
      ]
    },
    {
      "cell_type": "code",
      "source": [
        "text = \"Звоните по номеру +7-123-456-78-90 или +7-987-654-32-10\"\n",
        "phones = re.findall(r\"(?:\\+7)[\\s\\-\\(]*\\d{3}[\\)\\s\\-]*\\d{3}[\\s\\-]*\\d{2}[\\s\\-]*\\d{2}\", text)\n",
        "print(phones)\n",
        "# Найдите все номера телефонов (содержат +7-)"
      ],
      "metadata": {
        "colab": {
          "base_uri": "https://localhost:8080/"
        },
        "id": "wvBFupZnY97L",
        "outputId": "d1d0ccb6-adc8-429f-8840-c84cd78a80e2"
      },
      "execution_count": null,
      "outputs": [
        {
          "output_type": "stream",
          "name": "stdout",
          "text": [
            "['+7-123-456-78-90', '+7-987-654-32-10']\n"
          ]
        }
      ]
    },
    {
      "cell_type": "code",
      "source": [
        "text = \"   ЭТОТ ТЕКСТ ПИСАЛИ КАПСОМ    \"\n",
        "\n",
        "print (f'{text[3].upper().strip()}{text[4:27].lower().strip()}')\n",
        "\n",
        " # Приведите к нормальному виду: первая буква заглавная, остальные маленькие # Ожидаемый вывод: \"Этот текст писали капсом\""
      ],
      "metadata": {
        "colab": {
          "base_uri": "https://localhost:8080/"
        },
        "id": "Rs19-nRmanyb",
        "outputId": "db200ed2-c693-4b35-fc13-588ce3fc97ae"
      },
      "execution_count": null,
      "outputs": [
        {
          "output_type": "stream",
          "name": "stdout",
          "text": [
            "Этот текст писали капсом\n"
          ]
        }
      ]
    },
    {
      "cell_type": "code",
      "source": [
        "sentence = \"Быстрый рыжий лис прыгает через ленивую собаку\"\n",
        "words = sentence.split (\" \")\n",
        "print (f'{len(words)}')\n",
        " # Посчитайте количество слов в предложении"
      ],
      "metadata": {
        "colab": {
          "base_uri": "https://localhost:8080/"
        },
        "id": "Cb1EQp8rbIP9",
        "outputId": "f7fd06ae-0990-4d2a-f459-2540ae5fa346"
      },
      "execution_count": 1,
      "outputs": [
        {
          "output_type": "stream",
          "name": "stdout",
          "text": [
            "7\n"
          ]
        }
      ]
    },
    {
      "cell_type": "code",
      "source": [
        "import re\n",
        "\n",
        "text = \"Встречаемся 2023-12-31 в 20:00\"\n",
        "pattern = r'\\d{4}-\\d{2}-\\d{2}'\n",
        "repl = \"31.12.2023\"\n",
        "date = re.sub(pattern,repl, text)\n",
        "print (date)\n",
        "# Замените формат даты на 31.12.2023"
      ],
      "metadata": {
        "colab": {
          "base_uri": "https://localhost:8080/"
        },
        "id": "1PT5GHKMcqlf",
        "outputId": "03811afa-819f-43bd-8045-05cea43a059d"
      },
      "execution_count": null,
      "outputs": [
        {
          "output_type": "stream",
          "name": "stdout",
          "text": [
            "Встречаемся 31.12.2023 в 20:00\n"
          ]
        }
      ]
    },
    {
      "cell_type": "code",
      "source": [
        "filename = \"my_document.backup.pdf\"\n",
        "print(f'{filename.endswith(\"pdf\")}')\n",
        "\n",
        "# Проверьте, является ли файл PDF-документом"
      ],
      "metadata": {
        "colab": {
          "base_uri": "https://localhost:8080/"
        },
        "id": "0SDqxn0KfRPU",
        "outputId": "64e1b451-7a9e-40af-ebf0-25bca77c5970"
      },
      "execution_count": null,
      "outputs": [
        {
          "output_type": "stream",
          "name": "stdout",
          "text": [
            "True\n"
          ]
        }
      ]
    },
    {
      "cell_type": "code",
      "source": [
        "URL = \"https://example.com/category/product.html\"\n",
        "domen = re.findall(r'//\\w{7}.\\w{3}', URL)\n",
        "name = re.findall(r'/\\w{7}.\\w{4}', URL)\n",
        "print (domen,name)"
      ],
      "metadata": {
        "colab": {
          "base_uri": "https://localhost:8080/"
        },
        "id": "AGh-6NIjgQWN",
        "outputId": "5358983c-f4ae-4c54-e010-b0dbbe82975b"
      },
      "execution_count": null,
      "outputs": [
        {
          "output_type": "stream",
          "name": "stdout",
          "text": [
            "['//example.com'] ['/product.html']\n"
          ]
        }
      ]
    },
    {
      "cell_type": "code",
      "source": [
        "full_name = \"Maria Ivanova\"\n",
        "print (f'{full_name[0].lower()}_{full_name[6:13].lower()}')"
      ],
      "metadata": {
        "colab": {
          "base_uri": "https://localhost:8080/"
        },
        "id": "7snWq1DikDpc",
        "outputId": "40165b83-fa76-4bce-8f46-b57b37198d42"
      },
      "execution_count": null,
      "outputs": [
        {
          "output_type": "stream",
          "name": "stdout",
          "text": [
            "m_ivanova\n"
          ]
        }
      ]
    }
  ]
}