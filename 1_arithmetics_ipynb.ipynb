{
  "cells": [
    {
      "cell_type": "markdown",
      "metadata": {
        "id": "view-in-github",
        "colab_type": "text"
      },
      "source": [
        "<a href=\"https://colab.research.google.com/github/lipchenko/lipchenko-HSE_student_lipcheko/blob/main/1_arithmetics_ipynb.ipynb\" target=\"_parent\"><img src=\"https://colab.research.google.com/assets/colab-badge.svg\" alt=\"Open In Colab\"/></a>"
      ]
    },
    {
      "cell_type": "markdown",
      "metadata": {
        "id": "LKJXB1rGMi22"
      },
      "source": [
        "(c) В.И. Фирсанова | 2025"
      ]
    },
    {
      "cell_type": "markdown",
      "metadata": {
        "id": "fQaRb4FdiZXL"
      },
      "source": [
        "# Арифметические операции в Python\n",
        "\n",
        "1. **Сложение (+)**:\n",
        "   - `3 + 5` возвращает `8`\n",
        "\n",
        "2. **Вычитание (-)**:\n",
        "   - `10 - 4` возвращает `6`\n",
        "\n",
        "3. **Умножение (*)**:\n",
        "   - `2 * 6` возвращает `12`\n",
        "\n",
        "4. **Деление (/)**:\n",
        "   - `15 / 3` возвращает `5.0` (число с плавающей точкой)\n",
        "\n",
        "5. **Целочисленное деление (//)**:\n",
        "   - `15 // 4` возвращает `3` (целое число)\n",
        "\n",
        "6. **Остаток от деления (%)**:\n",
        "   - `15 % 4` возвращает `3`\n",
        "\n",
        "7. **Возведение в степень (**** **либо (pow())**:\n",
        "   - `2 ** 3` или `pow(2, 3)` возвращает `8`\n",
        "\n",
        "8. **Модуль (abs())**:\n",
        "   - `abs(-10)` возвращает `10`\n",
        "\n",
        "10. **Округление (round())**:\n",
        "    - `round(4.6)` возвращает `5`\n",
        "    - `round(4.65, 1)` возвращает `4.7` (1 знак после запятой)\n",
        "\n",
        "**Порядок арифметических операций в Python:**\n",
        "\n",
        "1. Скобки\n",
        "2. Возведение в степень, корень числа\n",
        "3. Умножение и деление слева-направо\n",
        "4. Сложение и вычитание слева-направо"
      ]
    },
    {
      "cell_type": "code",
      "execution_count": 2,
      "metadata": {
        "id": "l6Dwn2cDj_N9",
        "colab": {
          "base_uri": "https://localhost:8080/"
        },
        "outputId": "ca13d4d1-2e46-49b9-ed11-a98f6b9614b5"
      },
      "outputs": [
        {
          "output_type": "stream",
          "name": "stdout",
          "text": [
            "30\n"
          ]
        }
      ],
      "source": [
        "num1 = 10\n",
        "num2 = 20\n",
        "\n",
        "\n",
        "\n",
        "result = num1+num2\n",
        "\n",
        "print(result)"
      ]
    },
    {
      "cell_type": "code",
      "execution_count": 4,
      "metadata": {
        "id": "0eRzO5hMkdIc",
        "colab": {
          "base_uri": "https://localhost:8080/"
        },
        "outputId": "1a23785e-0b40-499a-e95e-8224e629e505"
      },
      "outputs": [
        {
          "output_type": "stream",
          "name": "stdout",
          "text": [
            "10\n"
          ]
        }
      ],
      "source": [
        "num1 = 10\n",
        "num2 = 20\n",
        "\n",
        "# Напишите код для вычитания 2-х чисел\n",
        "\n",
        "result = num2-num1\n",
        "\n",
        "print(result)"
      ]
    },
    {
      "cell_type": "code",
      "execution_count": 5,
      "metadata": {
        "id": "ZyueEtLqkinp",
        "colab": {
          "base_uri": "https://localhost:8080/"
        },
        "outputId": "dd4c7499-4b2e-4238-aed8-c11ee91ad4be"
      },
      "outputs": [
        {
          "output_type": "stream",
          "name": "stdout",
          "text": [
            "200\n"
          ]
        }
      ],
      "source": [
        "num1 = 10\n",
        "num2 = 20\n",
        "\n",
        "# Напишите код для умножения 2-х чисел\n",
        "\n",
        "result = num1*num2\n",
        "\n",
        "print(result)"
      ]
    },
    {
      "cell_type": "code",
      "execution_count": 6,
      "metadata": {
        "id": "6s-US4aVkj93",
        "colab": {
          "base_uri": "https://localhost:8080/"
        },
        "outputId": "ea8ce867-6d07-4ab5-893b-fe85c0566572"
      },
      "outputs": [
        {
          "output_type": "stream",
          "name": "stdout",
          "text": [
            "1.0\n"
          ]
        }
      ],
      "source": [
        "num1 = 10\n",
        "num2 = 20\n",
        "\n",
        "# Напишите код для деления 2-х чисел\n",
        "\n",
        "result = num2/num2\n",
        "\n",
        "print(result)"
      ]
    },
    {
      "cell_type": "code",
      "execution_count": 7,
      "metadata": {
        "id": "53S7Bayskqiv",
        "colab": {
          "base_uri": "https://localhost:8080/"
        },
        "outputId": "2bd93a02-5cd2-44a5-f23e-7a601398eee9"
      },
      "outputs": [
        {
          "output_type": "stream",
          "name": "stdout",
          "text": [
            "Hello, World!\n"
          ]
        }
      ],
      "source": [
        "str1 = \"Hello, \"\n",
        "str2 = \"World!\"\n",
        "\n",
        "# Напишите код для сложения 2-х строк, что получилось?\n",
        "\n",
        "result = str1+str2\n",
        "\n",
        "print(result)"
      ]
    },
    {
      "cell_type": "code",
      "execution_count": 8,
      "metadata": {
        "id": "IWmTrByfk0Ok",
        "colab": {
          "base_uri": "https://localhost:8080/",
          "height": 211
        },
        "outputId": "f650b785-ba21-446d-89f3-1096c6eeefb5"
      },
      "outputs": [
        {
          "output_type": "error",
          "ename": "TypeError",
          "evalue": "can only concatenate str (not \"int\") to str",
          "traceback": [
            "\u001b[0;31m---------------------------------------------------------------------------\u001b[0m",
            "\u001b[0;31mTypeError\u001b[0m                                 Traceback (most recent call last)",
            "\u001b[0;32m/tmp/ipython-input-3859988276.py\u001b[0m in \u001b[0;36m<cell line: 0>\u001b[0;34m()\u001b[0m\n\u001b[1;32m      4\u001b[0m \u001b[0;31m# Напишите код для сложения строки и числа, чем это все закончилось?\u001b[0m\u001b[0;34m\u001b[0m\u001b[0;34m\u001b[0m\u001b[0m\n\u001b[1;32m      5\u001b[0m \u001b[0;34m\u001b[0m\u001b[0m\n\u001b[0;32m----> 6\u001b[0;31m \u001b[0mresult\u001b[0m \u001b[0;34m=\u001b[0m\u001b[0mstr1\u001b[0m\u001b[0;34m+\u001b[0m\u001b[0mnum1\u001b[0m\u001b[0;34m\u001b[0m\u001b[0;34m\u001b[0m\u001b[0m\n\u001b[0m\u001b[1;32m      7\u001b[0m \u001b[0;34m\u001b[0m\u001b[0m\n\u001b[1;32m      8\u001b[0m \u001b[0mprint\u001b[0m\u001b[0;34m(\u001b[0m\u001b[0mresult\u001b[0m\u001b[0;34m)\u001b[0m\u001b[0;34m\u001b[0m\u001b[0;34m\u001b[0m\u001b[0m\n",
            "\u001b[0;31mTypeError\u001b[0m: can only concatenate str (not \"int\") to str"
          ]
        }
      ],
      "source": [
        "str1 = \"Hello, \"\n",
        "num1 = 10\n",
        "\n",
        "# Напишите код для сложения строки и числа, чем это все закончилось?\n",
        "\n",
        "result =str1+num1\n",
        "\n",
        "print(result)"
      ]
    },
    {
      "cell_type": "code",
      "execution_count": 9,
      "metadata": {
        "id": "MTUyA3jUlJBL",
        "colab": {
          "base_uri": "https://localhost:8080/"
        },
        "outputId": "80757610-aa54-45b5-fe73-c08179f3ccbc"
      },
      "outputs": [
        {
          "output_type": "stream",
          "name": "stdout",
          "text": [
            "Hello, 10\n"
          ]
        }
      ],
      "source": [
        "str1 = \"Hello, \"\n",
        "num1 = \"10\"\n",
        "\n",
        "# Напишите код для сложения строки и числа еще раз, что получилось?\n",
        "\n",
        "result = str1+num1\n",
        "\n",
        "print(result)"
      ]
    },
    {
      "cell_type": "markdown",
      "metadata": {
        "id": "pQk4nII6lYHC"
      },
      "source": [
        "Сложение двух строк называется **конкатенацией**. В Python можно конкатенировать только 2 одинаковых типа данных, например, числа и числа, строки и строки, матрицы и матрицы и т.д."
      ]
    },
    {
      "cell_type": "code",
      "execution_count": 10,
      "metadata": {
        "id": "xbPvx4Dslnhp",
        "colab": {
          "base_uri": "https://localhost:8080/"
        },
        "outputId": "685aadf4-cd94-4571-9bba-e9c2577efe58"
      },
      "outputs": [
        {
          "output_type": "stream",
          "name": "stdout",
          "text": [
            "30\n"
          ]
        }
      ],
      "source": [
        "num1 = 10\n",
        "num2 = 20\n",
        "\n",
        "# Выведите на экран результат сложения 2-х чисел\n",
        "\n",
        "num1 += num2\n",
        "\n",
        "print(num1)"
      ]
    },
    {
      "cell_type": "markdown",
      "metadata": {
        "id": "EQdzTKaMlvyB"
      },
      "source": [
        "Операторы `+=`, `-=`, `*=`, `/=` изменяют значение текущей переменной путем сложения, вычитания, умножения и т.д. другой переменной. Они делают код **питоничным**, ускоряя как скорость написания кода, так и скорость его выполнения.\n",
        "\n",
        "Почему ускоряется скорость выполнения кода?\n",
        "\n",
        "Сценарий 1\n",
        "\n",
        "```\n",
        "a = 1 # занимаем ячейку памяти компьютера и даем ей идентификатор a\n",
        "b = 1 # занимаем ячейку памяти компьютера и даем ей идентификатор b\n",
        "\n",
        "c = a + b # занимаем ячейку памяти компьютера и даем ей идентификатор c\n",
        "```\n",
        "Сценарий 2\n",
        "```\n",
        "a = 1 # занимаем ячейку памяти компьютера и даем ей идентификатор a\n",
        "b = 1 # занимаем ячейку памяти компьютера и даем ей идентификатор b\n",
        "\n",
        "a += b # обновляем информацию в ячейке a\n",
        "```\n",
        "\n",
        "Результат тот же, но мы не заполняем место в памяти компьютера ячейкой `c`.\n",
        "А теперь представь, что мы работаем с большими данными. Как много памяти мы сохраним и насколько быстрее будет работать такой код!\n",
        "\n",
        "Так что питоничность - это то, к чему мы стремимся, как питонисты :)"
      ]
    },
    {
      "cell_type": "code",
      "execution_count": 11,
      "metadata": {
        "id": "C32ozj4SnYH1",
        "colab": {
          "base_uri": "https://localhost:8080/"
        },
        "outputId": "7a8702f0-56e7-43cf-8a1a-79388cdd9ab1"
      },
      "outputs": [
        {
          "output_type": "stream",
          "name": "stdout",
          "text": [
            "10\n"
          ]
        }
      ],
      "source": [
        "num1 = 10\n",
        "num2 = 20\n",
        "\n",
        "# Выведите на экран результат вычитания 2-х чисел с помощью оператора -=\n",
        "\n",
        "num2 -= num1\n",
        "print(num2)"
      ]
    },
    {
      "cell_type": "code",
      "execution_count": 12,
      "metadata": {
        "id": "yF5z2RYgnh0O",
        "colab": {
          "base_uri": "https://localhost:8080/"
        },
        "outputId": "7dc6bc7c-e0ec-4788-9013-965c26d3d286"
      },
      "outputs": [
        {
          "output_type": "stream",
          "name": "stdout",
          "text": [
            "200\n"
          ]
        }
      ],
      "source": [
        "num1 = 10\n",
        "num2 = 20\n",
        "\n",
        "# Выведите на экран результат умножения 2-х чисел с помощью оператора *=\n",
        "\n",
        "num1 *= num2\n",
        "print (num1)"
      ]
    },
    {
      "cell_type": "code",
      "execution_count": 13,
      "metadata": {
        "id": "i0nBdi3ankz0",
        "colab": {
          "base_uri": "https://localhost:8080/"
        },
        "outputId": "c9727148-06a3-4027-e1ec-3fb51e035f85"
      },
      "outputs": [
        {
          "output_type": "stream",
          "name": "stdout",
          "text": [
            "2.0\n"
          ]
        }
      ],
      "source": [
        "num1 = 10\n",
        "num2 = 20\n",
        "\n",
        "# Выведите на экран результат деления 2-х чисел с помощью оператора /=\n",
        "\n",
        "num2/=num1\n",
        "print (num2)"
      ]
    },
    {
      "cell_type": "markdown",
      "metadata": {
        "id": "f31cd5a8"
      },
      "source": [
        "\n",
        "## Теория: имена переменных и операции в Python\n",
        "\n",
        "### Имена переменных\n",
        "- Имя переменной должно быть **понятным и описательным**. Например, `age`, `user_name`, а не `a`, `xyz`.\n",
        "- Используйте **snake_case**, а не **camelCase**: слова разделяются символом подчёркивания (`max_value`, `user_input`).\n",
        "- Имя переменной **не может начинаться с цифры** и содержать пробелы.\n",
        "  > Python не считает `0variable`, но считает `variable0`. Это связано с тем, что то, что начинается с цифры, начинает интерпретироваться нашей системой как число. Не будем путать процессор :)\n",
        "- **Зарезервированные слова** (например, `for`, `if`, `class`) нельзя использовать в качестве имён.\n",
        "  > Что это за \"резерв\" такой? Сюда попадают названия, которые участвуют в работе языка Python: `for` запускает цикл, `class` объявляет класс и т.д. Использование таких слов в качестве переменных создаст *неоднозначность* в работе программы. Проще говоря, питон запутается!\n",
        "\n",
        "Плохой нейминг:\n",
        "```python\n",
        "a = 10\n",
        "b = \"hello\"\n",
        "```\n",
        "\n",
        "Хороший нейминг:\n",
        "```python\n",
        "user_age = 10\n",
        "greeting = \"hello\"\n",
        "```\n"
      ]
    },
    {
      "cell_type": "markdown",
      "source": [
        "**Практика** перед новым занятием"
      ],
      "metadata": {
        "id": "iI6yYKuwHTdc"
      }
    },
    {
      "cell_type": "code",
      "execution_count": 20,
      "metadata": {
        "colab": {
          "base_uri": "https://localhost:8080/"
        },
        "id": "44c1f87e",
        "outputId": "d13f9606-3832-4b52-a382-c3b772853468"
      },
      "outputs": [
        {
          "output_type": "stream",
          "name": "stdout",
          "text": [
            "Введи свой возраст: 12\n",
            "Переменная создана правильно.\n"
          ]
        }
      ],
      "source": [
        "# 1: создай переменную с именем user_age и сохрани в ней число, введённое с клавиатуры\n",
        "user_age = int(input(\"Введи свой возраст: \"))\n",
        "\n",
        "# Проверка\n",
        "assert isinstance(user_age, int)\n",
        "print(\"Переменная создана правильно.\")"
      ]
    },
    {
      "cell_type": "code",
      "source": [
        "# Теперь введи сюда имя пользователя\n",
        "user_name= str(input(\"Введи свое имя: \"))\n",
        "\n",
        "# Проверка\n",
        "assert isinstance(user_name, str)\n",
        "print(\"Переменная создана правильно.\")\n"
      ],
      "metadata": {
        "id": "R_KvKPZtHika",
        "colab": {
          "base_uri": "https://localhost:8080/"
        },
        "outputId": "703b6e22-98f1-43e5-d57b-b92ed8e06835"
      },
      "execution_count": 27,
      "outputs": [
        {
          "output_type": "stream",
          "name": "stdout",
          "text": [
            "Введи свое имя: саша\n",
            "Переменная создана правильно.\n"
          ]
        }
      ]
    },
    {
      "cell_type": "markdown",
      "source": [
        "Какой из элементов кода вызвал ошибку? Ответ (для ответа можно использовать внешние источники):  Был использован неподходящий тип данных, нужно использовать str для слов, а int для целых чисел.\n"
      ],
      "metadata": {
        "id": "SiWR5PNMHwAf"
      }
    },
    {
      "cell_type": "markdown",
      "source": [
        "**Задания на закрепление материала**"
      ],
      "metadata": {
        "id": "H3EbQGPkItjR"
      }
    },
    {
      "cell_type": "markdown",
      "source": [
        "1. Создай переменную x = 10 и приьавт к ней 5 с помощью сокращённого (комбинированного) оператора"
      ],
      "metadata": {
        "id": "NwmxhHBEIx9L"
      }
    },
    {
      "cell_type": "code",
      "source": [
        "num1=10\n",
        "num2=5\n",
        "num1+=num2\n",
        "print(num1)"
      ],
      "metadata": {
        "id": "SgV8q_5OHd_E",
        "colab": {
          "base_uri": "https://localhost:8080/"
        },
        "outputId": "386cfbee-40a9-4d04-f8b7-ddc60b8e1cbe"
      },
      "execution_count": 28,
      "outputs": [
        {
          "output_type": "stream",
          "name": "stdout",
          "text": [
            "15\n"
          ]
        }
      ]
    },
    {
      "cell_type": "markdown",
      "source": [
        "2. Написать код, чтобы преобразовать температуру в градусах по Цельсию к виду значений температуры в градусах по Фаренгейту. Использовать `int(input())` для ввода значения температур"
      ],
      "metadata": {
        "id": "dd2gF9NwJA-v"
      }
    },
    {
      "cell_type": "code",
      "source": [
        "temperature = int(input(\"Введите значение температуру: \"))\n",
        "temperature *= 1.8\n",
        "temperature += 32\n",
        "print (temperature)\n"
      ],
      "metadata": {
        "id": "Kt3veehuJzJ5",
        "colab": {
          "base_uri": "https://localhost:8080/"
        },
        "outputId": "93f511ac-4796-4317-b6d8-ce455a00839d"
      },
      "execution_count": 30,
      "outputs": [
        {
          "output_type": "stream",
          "name": "stdout",
          "text": [
            "Введите значение температуру: 32\n",
            "89.6\n"
          ]
        }
      ]
    },
    {
      "cell_type": "markdown",
      "source": [
        "3. Написать код, чтобы переводить минуты в часы и считать остаток минут. Использовать `int(input())` для ввода количества минут"
      ],
      "metadata": {
        "id": "vX8Tl1zJJ6Gx"
      }
    },
    {
      "cell_type": "code",
      "source": [
        "minutes = int(input(\"Введите минуты: \"))\n",
        "hours = minutes // 60\n",
        "remaining_minutes = minutes % 60\n",
        "print(hours, remaining_minutes)"
      ],
      "metadata": {
        "id": "lBhk8No8KFRH",
        "colab": {
          "base_uri": "https://localhost:8080/"
        },
        "outputId": "4a68657f-007d-47b4-f0fb-136e2a0c5227"
      },
      "execution_count": 35,
      "outputs": [
        {
          "output_type": "stream",
          "name": "stdout",
          "text": [
            "Введите минуты: 177\n",
            "2 57\n"
          ]
        }
      ]
    },
    {
      "cell_type": "markdown",
      "source": [
        "4. Ячейка кода ниже должна принимать 2 числа и считать их сумму, разность, произведение и частное"
      ],
      "metadata": {
        "id": "CjEzHXxYKFpF"
      }
    },
    {
      "cell_type": "code",
      "source": [
        "num1= (int(input(\"Введите число: \")))\n",
        "num2= (int(input(\"Введите число: \")))\n",
        "num3 = num1+num2\n",
        "num4 = num1-num2\n",
        "num5 = num1*num2\n",
        "num6 = num1/num2\n",
        "print (num3,num4,num5,num6)"
      ],
      "metadata": {
        "id": "NZ2kppmuKPvJ",
        "colab": {
          "base_uri": "https://localhost:8080/"
        },
        "outputId": "215db11b-5a40-4e5c-e776-7222f910206f"
      },
      "execution_count": 36,
      "outputs": [
        {
          "output_type": "stream",
          "name": "stdout",
          "text": [
            "Введите число: 10\n",
            "Введите число: 20\n",
            "30 -10 200 0.5\n"
          ]
        }
      ]
    },
    {
      "cell_type": "markdown",
      "source": [
        "5. Сколько будет 15% от 200?"
      ],
      "metadata": {
        "id": "14V2rbizKQMH"
      }
    },
    {
      "cell_type": "code",
      "source": [
        "num1 = 200\n",
        "num1 /= 100\n",
        "num1 *= 15\n",
        "print (num1)"
      ],
      "metadata": {
        "id": "s3S7cjRGKa3w",
        "colab": {
          "base_uri": "https://localhost:8080/"
        },
        "outputId": "4f4533d0-7ca0-432e-e3e5-506be5baab71"
      },
      "execution_count": 38,
      "outputs": [
        {
          "output_type": "stream",
          "name": "stdout",
          "text": [
            "30.0\n"
          ]
        }
      ]
    }
  ],
  "metadata": {
    "colab": {
      "provenance": [],
      "include_colab_link": true
    },
    "kernelspec": {
      "display_name": "Python 3",
      "name": "python3"
    },
    "language_info": {
      "name": "python"
    }
  },
  "nbformat": 4,
  "nbformat_minor": 0
}