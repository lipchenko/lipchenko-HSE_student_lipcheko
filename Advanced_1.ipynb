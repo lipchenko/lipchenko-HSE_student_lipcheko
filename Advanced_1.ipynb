{
  "nbformat": 4,
  "nbformat_minor": 0,
  "metadata": {
    "colab": {
      "provenance": [],
      "authorship_tag": "ABX9TyP/XRWHpcMWLMA/X56btKf0",
      "include_colab_link": true
    },
    "kernelspec": {
      "name": "python3",
      "display_name": "Python 3"
    },
    "language_info": {
      "name": "python"
    }
  },
  "cells": [
    {
      "cell_type": "markdown",
      "metadata": {
        "id": "view-in-github",
        "colab_type": "text"
      },
      "source": [
        "<a href=\"https://colab.research.google.com/github/lipchenko/lipchenko_HSE_student/blob/main/Advanced_1.ipynb\" target=\"_parent\"><img src=\"https://colab.research.google.com/assets/colab-badge.svg\" alt=\"Open In Colab\"/></a>"
      ]
    },
    {
      "cell_type": "code",
      "source": [
        "import json\n",
        "\n",
        "#Импортировала json, создала класс Dataset и дала ему параметры filename и data.\n",
        "class Dataset:\n",
        "    def __init__(self, filename: str):\n",
        "        self.filename = filename\n",
        "        self.data = self._read_file()\n",
        "#Создала метод read_file. открыла файл при помощи операторов try, with open. Вывела сценарии ошибки при помощи оператора except.\n",
        "    def _read_file(self):\n",
        "        try:\n",
        "            with open(self.filename, 'r') as file:\n",
        "                data = json.load(file)\n",
        "                return data\n",
        "        except FileNotFoundError:\n",
        "            print(f\"Ошибка: файл '{self.filename}' не найден!\")\n",
        "            return None\n",
        "        except json.JSONDecodeError:\n",
        "            print(f\"Ошибка: ошибка декодирования JSON в файле '{self.filename}'!\")\n",
        "            return None\n",
        "        except Exception as e:\n",
        "            print(f\"Ошибка при чтении файла: {e}\")\n",
        "            return None\n",
        "#создала в методе get_song аргумент song_id. Если нужного id нет, код выводит \"Данные не загружены\".\n",
        "    def _get_song(self, song_id):\n",
        "        if self.data is None:\n",
        "            print(\"Данные не загружены\")\n",
        "            return None\n",
        "#Использование цикла. Переменная song в параметре self.data. Если айди совпадает с айди из данных, то пользователь получает песню.\n",
        "        for song in self.data:\n",
        "            if song.get('id') == song_id:\n",
        "                print(f\"Песня под номером {song_id} найдена\")\n",
        "                return song\n",
        "\n",
        "        print(f\"Песня под номером {song_id} не найдена\")\n",
        "        return None\n",
        "\n",
        "    def _find_similar(self, similar_ids):\n",
        "        if self.data is None:\n",
        "            print(\"Данные не загружены!\")\n",
        "            return None\n",
        "#Иницирование переменной списка found_song. Использование цикла. Нахождение id песни в разделе базы данных similar_ids. Вывод найденных id.\n",
        "        found_songs = []\n",
        "        for song in self.data:\n",
        "            if song.get('id') in similar_ids:\n",
        "                found_songs.append(song)\n",
        "\n",
        "        if found_songs:\n",
        "            print(f\"Найдены песни под номерами {similar_ids}\")\n",
        "            return found_songs\n",
        "        else:\n",
        "            print(f\"Песни под номерами {similar_ids} не найдены\")\n",
        "            return None\n",
        "\n",
        "if __name__ == '__main__':\n",
        "    dataset = Dataset('/content/api.json')\n",
        "    print(dataset.data)\n",
        "    print(dataset._get_song(5))\n",
        "    print(dataset._find_similar([5]))"
      ],
      "metadata": {
        "colab": {
          "base_uri": "https://localhost:8080/"
        },
        "id": "4cigkqoBzkB2",
        "outputId": "5a0c5da1-35a7-4d00-cbd7-5dd16b39845d"
      },
      "execution_count": null,
      "outputs": [
        {
          "output_type": "stream",
          "name": "stdout",
          "text": [
            "Ошибка: файл '/content/api.json' не найден!\n",
            "None\n",
            "Данные не загружены\n",
            "None\n",
            "Данные не загружены!\n",
            "None\n"
          ]
        }
      ]
    },
    {
      "cell_type": "code",
      "source": [
        "!pip install pandas\n",
        "\n",
        "!pip install numpy\n",
        "\n",
        "#Скачала библиотеки pandas и numpy\n",
        "\n",
        "\n",
        "import pandas as pd\n",
        "import numpy as np\n",
        "import os\n",
        "\n",
        "#Загрузила библиотеки в программу.\n",
        "class Dataset:\n",
        "#Создала класс Dataset. Создала метод init для введения параметров. В начале ввела для параметра self.data значение в качестве метода read_file, как в нашей аудиторной, но у меня не было метода в этой программе read_file. Решила дать аргументу значение validate_file, но программа выдавала ошибку, что не существует такого значения. Решила сделать аргумент пустым, чтобы заполнить его данными из базы данных.\n",
        "  def __init__(self, filename: str):\n",
        "        self.filename = filename\n",
        "        self.data = None\n",
        "        self._load_data (filename)\n",
        "#Хотела открыть и прочитать файл, сделала метод чтения с try with open с аргументом загрузки, программа не работала. Тогда дипсик скомандовал переписать метод с помощью условий. поставила условие. Хотела сделать еще положительный ответ программы \"файл найден\", но код начинал глючить. Убрала.\n",
        "  def __validate_file_path(self,filepath):\n",
        "          if not os.path.exists(filepath):\n",
        "                   raise FileNotFoundError(f\"Файл '{filepath}' не найден!\")\n",
        "          if not os.path.isfile(filepath):\n",
        "                    raise FileNotFoundError(f\"Файл '{filepath}' не существует!\")\n",
        "          return None\n",
        "\n",
        "  def _load_data(self, filepath):\n",
        "           self.__validate_file_path(filepath)\n",
        "           self.data = pd.read_csv(filepath)\n",
        "           return self.data\n",
        "#Создала метод загрузки. Вывела метод поиска файла. Вывела параметр data и уже здесь дала ему прочитать файл. Почему-то это не сработало в начале кода. Возвратила данные.\n",
        "  def _get_basic_info (self):\n",
        "        if self.data is None:\n",
        "         raise FileNotFoundError(f\"Ошибка\")\n",
        "#Создала метод get_info. Вывела сценарий ошибки. Дала параметры shape, columns и missing_values и дала им переменные.\n",
        "        shape = self.data.shape\n",
        "        columns = self.data.columns\n",
        "        missing_values =self. data.isnull().sum()\n",
        "#добавила логическую функцию insull.sum для поиска пропущенных значений.\n",
        "        print (\"=== БАЗОВАЯ ИНФОРМАЦИЯ ===\")\n",
        "        print (f\" форма: {shape}\")\n",
        "        print (f\" колонки: {columns}\")\n",
        "        print (f\"пропущенные значения: {missing_values}\")\n",
        "#при решении задач использовала такие материалы как https://metanit.com/python/tutorial/7.1.php и https://education.yandex.ru/handbook/python/article/obuektnaya-model-python-klassy-polya-i-metody#chto-takoe-klass-i-obuekt-v-python-i-kak-oni-svyazany-mezhdu-soboj. Использовала нейросеть для проверки ошибок и подсказок.\n",
        "\n",
        "dataset = Dataset('/content/health_metrics.csv')\n",
        "\n",
        "dataset._get_basic_info()"
      ],
      "metadata": {
        "colab": {
          "base_uri": "https://localhost:8080/"
        },
        "id": "7sQUIlDQdHyN",
        "outputId": "88f5dd4f-ae9f-4fe6-94fd-a7d0b7272e76"
      },
      "execution_count": null,
      "outputs": [
        {
          "output_type": "stream",
          "name": "stdout",
          "text": [
            "Requirement already satisfied: pandas in /usr/local/lib/python3.12/dist-packages (2.2.2)\n",
            "Requirement already satisfied: numpy>=1.26.0 in /usr/local/lib/python3.12/dist-packages (from pandas) (2.0.2)\n",
            "Requirement already satisfied: python-dateutil>=2.8.2 in /usr/local/lib/python3.12/dist-packages (from pandas) (2.9.0.post0)\n",
            "Requirement already satisfied: pytz>=2020.1 in /usr/local/lib/python3.12/dist-packages (from pandas) (2025.2)\n",
            "Requirement already satisfied: tzdata>=2022.7 in /usr/local/lib/python3.12/dist-packages (from pandas) (2025.2)\n",
            "Requirement already satisfied: six>=1.5 in /usr/local/lib/python3.12/dist-packages (from python-dateutil>=2.8.2->pandas) (1.17.0)\n",
            "Requirement already satisfied: numpy in /usr/local/lib/python3.12/dist-packages (2.0.2)\n",
            "=== БАЗОВАЯ ИНФОРМАЦИЯ ===\n",
            " форма: (8, 8)\n",
            " колонки: Index(['patient_id', 'age', 'blood_pressure', 'cholesterol', 'glucose', 'bmi',\n",
            "       'smoker', 'diabetic'],\n",
            "      dtype='object')\n",
            "пропущенные значения: patient_id        0\n",
            "age               0\n",
            "blood_pressure    1\n",
            "cholesterol       1\n",
            "glucose           0\n",
            "bmi               0\n",
            "smoker            0\n",
            "diabetic          0\n",
            "dtype: int64\n"
          ]
        }
      ]
    }
  ]
}