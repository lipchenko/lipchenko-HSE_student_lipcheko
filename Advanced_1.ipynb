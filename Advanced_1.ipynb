{
  "nbformat": 4,
  "nbformat_minor": 0,
  "metadata": {
    "colab": {
      "provenance": [],
      "authorship_tag": "ABX9TyPVhtmnUZFJeLfQJoBPObvJ",
      "include_colab_link": true
    },
    "kernelspec": {
      "name": "python3",
      "display_name": "Python 3"
    },
    "language_info": {
      "name": "python"
    }
  },
  "cells": [
    {
      "cell_type": "markdown",
      "metadata": {
        "id": "view-in-github",
        "colab_type": "text"
      },
      "source": [
        "<a href=\"https://colab.research.google.com/github/lipchenko/lipchenko_HSE_student/blob/main/Advanced_1.ipynb\" target=\"_parent\"><img src=\"https://colab.research.google.com/assets/colab-badge.svg\" alt=\"Open In Colab\"/></a>"
      ]
    },
    {
      "cell_type": "code",
      "source": [
        "import json\n",
        "\n",
        "#Импортировала json, создала класс Dataset и дала ему параметры filename и data.\n",
        "class Dataset:\n",
        "    def __init__(self, filename: str):\n",
        "        self.filename = filename\n",
        "        self.data = self._read_file()\n",
        "#Создала метод read_file. открыла файл при помощи операторов try, with open. Вывела сценарии ошибки при помощи оператора except.\n",
        "    def _read_file(self):\n",
        "        try:\n",
        "            with open(self.filename, 'r') as file:\n",
        "                data = json.load(file)\n",
        "                return data\n",
        "        except FileNotFoundError:\n",
        "            print(f\"Ошибка: файл '{self.filename}' не найден!\")\n",
        "            return None\n",
        "        except json.JSONDecodeError:\n",
        "            print(f\"Ошибка: ошибка декодирования JSON в файле '{self.filename}'!\")\n",
        "            return None\n",
        "        except Exception as e:\n",
        "            print(f\"Ошибка при чтении файла: {e}\")\n",
        "            return None\n",
        "#создала в методе get_song аргумент song_id. Если нужного id нет, код выводит \"Данные не загружены\".\n",
        "    def _get_song(self, song_id):\n",
        "        if self.data is None:\n",
        "            print(\"Данные не загружены\")\n",
        "            return None\n",
        "#Использование цикла. Переменная song в параметре self.data. Если айди совпадает с айди из данных, то пользователь получает песню.\n",
        "        for song in self.data:\n",
        "            if song.get('id') == song_id:\n",
        "                print(f\"Песня под номером {song_id} найдена\")\n",
        "                return song\n",
        "\n",
        "        print(f\"Песня под номером {song_id} не найдена\")\n",
        "        return None\n",
        "\n",
        "    def _find_similar(self, similar_ids):\n",
        "        if self.data is None:\n",
        "            print(\"Данные не загружены!\")\n",
        "            return None\n",
        "#Иницирование переменной списка found_song. Использование цикла. Нахождение id песни в разделе базы данных similar_ids. Вывод найденных id.\n",
        "        found_songs = []\n",
        "        for song in self.data:\n",
        "            if song.get('id') in similar_ids:\n",
        "                found_songs.append(song)\n",
        "\n",
        "        if found_songs:\n",
        "            print(f\"Найдены песни под номерами {similar_ids}\")\n",
        "            return found_songs\n",
        "        else:\n",
        "            print(f\"Песни под номерами {similar_ids} не найдены\")\n",
        "            return None\n",
        "\n",
        "if __name__ == '__main__':\n",
        "    dataset = Dataset('/content/api.json')\n",
        "    print(dataset.data)\n",
        "    print(dataset._get_song(5))\n",
        "    print(dataset._find_similar([5]))"
      ],
      "metadata": {
        "colab": {
          "base_uri": "https://localhost:8080/"
        },
        "id": "4cigkqoBzkB2",
        "outputId": "489a397a-f0ec-4bc2-a60c-2b00380e207e"
      },
      "execution_count": 3,
      "outputs": [
        {
          "output_type": "stream",
          "name": "stdout",
          "text": [
            "[{'id': 1, 'title': 'Bohemian Rhapsody', 'author': 'Freddie Mercury', 'performer': 'Queen', 'album': 'A Night at the Opera', 'created_date': '1975-10-31', 'songwriter': 'Freddie Mercury', 'likes': 1500000, 'similar_ids': [2, 3, 7]}, {'id': 2, 'title': 'Hotel California', 'author': 'Don Felder', 'performer': 'Eagles', 'album': 'Hotel California', 'created_date': '1976-12-08', 'songwriter': 'Don Felder, Glenn Frey, Don Henley', 'likes': 1200000, 'similar_ids': [1, 4, 8]}, {'id': 3, 'title': 'Stairway to Heaven', 'author': 'Jimmy Page', 'performer': 'Led Zeppelin', 'album': 'Led Zeppelin IV', 'created_date': '1971-11-08', 'songwriter': 'Jimmy Page, Robert Plant', 'likes': 1300000, 'similar_ids': [1, 5, 9]}, {'id': 4, 'title': \"Sweet Child O' Mine\", 'author': 'Slash', 'performer': \"Guns N' Roses\", 'album': 'Appetite for Destruction', 'created_date': '1987-07-21', 'songwriter': 'Slash, Axl Rose, Izzy Stradlin', 'likes': 1100000, 'similar_ids': [2, 6, 10]}, {'id': 5, 'title': 'Smells Like Teen Spirit', 'author': 'Kurt Cobain', 'performer': 'Nirvana', 'album': 'Nevermind', 'created_date': '1991-09-10', 'songwriter': 'Kurt Cobain', 'likes': 1400000, 'similar_ids': [3, 7, 8]}, {'id': 6, 'title': 'Billie Jean', 'author': 'Michael Jackson', 'performer': 'Michael Jackson', 'album': 'Thriller', 'created_date': '1983-01-02', 'songwriter': 'Michael Jackson', 'likes': 1600000, 'similar_ids': [4, 9, 10]}, {'id': 7, 'title': 'Like a Rolling Stone', 'author': 'Bob Dylan', 'performer': 'Bob Dylan', 'album': 'Highway 61 Revisited', 'created_date': '1965-07-20', 'songwriter': 'Bob Dylan', 'likes': 900000, 'similar_ids': [1, 5, 8]}, {'id': 8, 'title': 'Imagine', 'author': 'John Lennon', 'performer': 'John Lennon', 'album': 'Imagine', 'created_date': '1971-10-11', 'songwriter': 'John Lennon', 'likes': 1000000, 'similar_ids': [2, 5, 7]}, {'id': 9, 'title': \"What's Going On\", 'author': 'Marvin Gaye', 'performer': 'Marvin Gaye', 'album': \"What's Going On\", 'created_date': '1971-01-20', 'songwriter': 'Marvin Gaye, Al Cleveland, Renaldo Benson', 'likes': 800000, 'similar_ids': [3, 6, 10]}, {'id': 10, 'title': 'Good Vibrations', 'author': 'Brian Wilson', 'performer': 'The Beach Boys', 'album': 'Smiley Smile', 'created_date': '1966-10-10', 'songwriter': 'Brian Wilson, Mike Love', 'likes': 950000, 'similar_ids': [4, 6, 9]}]\n",
            "Песня под номером 5 найдена\n",
            "{'id': 5, 'title': 'Smells Like Teen Spirit', 'author': 'Kurt Cobain', 'performer': 'Nirvana', 'album': 'Nevermind', 'created_date': '1991-09-10', 'songwriter': 'Kurt Cobain', 'likes': 1400000, 'similar_ids': [3, 7, 8]}\n",
            "Найдены песни под номерами [5]\n",
            "[{'id': 5, 'title': 'Smells Like Teen Spirit', 'author': 'Kurt Cobain', 'performer': 'Nirvana', 'album': 'Nevermind', 'created_date': '1991-09-10', 'songwriter': 'Kurt Cobain', 'likes': 1400000, 'similar_ids': [3, 7, 8]}]\n"
          ]
        }
      ]
    },
    {
      "cell_type": "code",
      "source": [
        "!pip install pandas\n",
        "\n",
        "!pip install numpy\n",
        "\n",
        "#Скачала библиотеки pandas и numpy\n",
        "\n",
        "\n",
        "import pandas as pd\n",
        "import numpy as np\n",
        "import os\n",
        "\n",
        "#Загрузила библиотеки в программу.\n",
        "class Dataset:\n",
        "#Создала класс Dataset. Создала метод init для введения параметров. В начале ввела для параметра self.data значение в качестве метода read_file, как в нашей аудиторной, но у меня не было метода в этой программе read_file. Решила дать аргументу значение validate_file, но программа выдавала ошибку, что не существует такого значения. Решила сделать аргумент пустым, чтобы заполнить его данными из базы данных.\n",
        "  def __init__(self, filename: str):\n",
        "        self.filename = filename\n",
        "        self.data = None\n",
        "        self._load_data (filename)\n",
        "#Хотела открыть и прочитать файл, сделала метод чтения с try with open с аргументом загрузки, программа не работала. Тогда дипсик скомандовал переписать метод с помощью условий. поставила условие. Хотела сделать еще положительный ответ программы \"файл найден\", но код начинал глючить. Убрала.\n",
        "  def __validate_file_path(self,filepath):\n",
        "          if not os.path.exists(filepath):\n",
        "                   raise FileNotFoundError(f\"Файл '{filepath}' не найден!\")\n",
        "          if not os.path.isfile(filepath):\n",
        "                    raise FileNotFoundError(f\"Файл '{filepath}' не существует!\")\n",
        "          return None\n",
        "\n",
        "  def _load_data(self, filepath):\n",
        "           self.__validate_file_path(filepath)\n",
        "           self.data = pd.read_csv(filepath)\n",
        "           return self.data\n",
        "#Создала метод загрузки. Вывела метод поиска файла. Вывела параметр data и уже здесь дала ему прочитать файл. Почему-то это не сработало в начале кода. Возвратила данные.\n",
        "  def _get_basic_info (self):\n",
        "        if self.data is None:\n",
        "         raise FileNotFoundError(f\"Ошибка\")\n",
        "#Создала метод get_info. Вывела сценарий ошибки. Дала параметры shape, columns и missing_values и дала им переменные.\n",
        "        shape = self.data.shape\n",
        "        columns = self.data.columns\n",
        "        missing_values =self. data.isnull().sum()\n",
        "#добавила логическую функцию insull.sum для поиска пропущенных значений.\n",
        "        print (\"=== БАЗОВАЯ ИНФОРМАЦИЯ ===\")\n",
        "        print (f\" форма: {shape}\")\n",
        "        print (f\" колонки: {columns}\")\n",
        "        print (f\"пропущенные значения: {missing_values}\")\n",
        "#при решении задач использовала такие материалы как https://metanit.com/python/tutorial/7.1.php и https://education.yandex.ru/handbook/python/article/obuektnaya-model-python-klassy-polya-i-metody#chto-takoe-klass-i-obuekt-v-python-i-kak-oni-svyazany-mezhdu-soboj. Использовала нейросеть для проверки ошибок и подсказок.\n",
        "\n",
        "dataset = Dataset('/content/sales_data.csv')\n",
        "\n",
        "dataset._get_basic_info()"
      ],
      "metadata": {
        "colab": {
          "base_uri": "https://localhost:8080/"
        },
        "id": "7sQUIlDQdHyN",
        "outputId": "abd76b49-d8bd-4c81-a296-e92fbd5f02e7"
      },
      "execution_count": 4,
      "outputs": [
        {
          "output_type": "stream",
          "name": "stdout",
          "text": [
            "Requirement already satisfied: pandas in /usr/local/lib/python3.12/dist-packages (2.2.2)\n",
            "Requirement already satisfied: numpy>=1.26.0 in /usr/local/lib/python3.12/dist-packages (from pandas) (2.0.2)\n",
            "Requirement already satisfied: python-dateutil>=2.8.2 in /usr/local/lib/python3.12/dist-packages (from pandas) (2.9.0.post0)\n",
            "Requirement already satisfied: pytz>=2020.1 in /usr/local/lib/python3.12/dist-packages (from pandas) (2025.2)\n",
            "Requirement already satisfied: tzdata>=2022.7 in /usr/local/lib/python3.12/dist-packages (from pandas) (2025.2)\n",
            "Requirement already satisfied: six>=1.5 in /usr/local/lib/python3.12/dist-packages (from python-dateutil>=2.8.2->pandas) (1.17.0)\n",
            "Requirement already satisfied: numpy in /usr/local/lib/python3.12/dist-packages (2.0.2)\n",
            "=== БАЗОВАЯ ИНФОРМАЦИЯ ===\n",
            " форма: (8, 7)\n",
            " колонки: Index(['date', 'product', 'category', 'price', 'quantity', 'region',\n",
            "       'customer_age'],\n",
            "      dtype='object')\n",
            "пропущенные значения: date            0\n",
            "product         0\n",
            "category        0\n",
            "price           0\n",
            "quantity        1\n",
            "region          0\n",
            "customer_age    0\n",
            "dtype: int64\n"
          ]
        }
      ]
    }
  ]
}