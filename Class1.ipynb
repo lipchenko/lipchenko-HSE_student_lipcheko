{
  "nbformat": 4,
  "nbformat_minor": 0,
  "metadata": {
    "colab": {
      "provenance": [],
      "toc_visible": true,
      "authorship_tag": "ABX9TyPEYnLHGdY4I1pmgMDRMcD3",
      "include_colab_link": true
    },
    "kernelspec": {
      "name": "python3",
      "display_name": "Python 3"
    },
    "language_info": {
      "name": "python"
    }
  },
  "cells": [
    {
      "cell_type": "markdown",
      "metadata": {
        "id": "view-in-github",
        "colab_type": "text"
      },
      "source": [
        "<a href=\"https://colab.research.google.com/github/lipchenko/lipchenko_HSE_student/blob/main/Class1.ipynb\" target=\"_parent\"><img src=\"https://colab.research.google.com/assets/colab-badge.svg\" alt=\"Open In Colab\"/></a>"
      ]
    },
    {
      "cell_type": "code",
      "execution_count": 14,
      "metadata": {
        "id": "tBZ_xWiuG3jL"
      },
      "outputs": [],
      "source": [
        "def _main():\n",
        "  print (\"Hello,world!\")\n",
        "  return main\n",
        "  If__name___= 'main'\n",
        "  main()\n"
      ]
    },
    {
      "cell_type": "code",
      "source": [
        "def _greet(greet_text):\n",
        "    return greet_text\n",
        "    greet_text =\"Hello,world!\"\n",
        "    print (greet(greet_text))"
      ],
      "metadata": {
        "id": "KVc9ZbZcICS8"
      },
      "execution_count": 15,
      "outputs": []
    },
    {
      "cell_type": "code",
      "source": [
        "greet_text = \"Hello, World!\"\n",
        "print(greet_text)\n",
        "\n",
        "# 1. Замените текст в переменной greet_text\n",
        "greet_text = \"Hi,buddy!\"\n",
        "print(greet_text)\n",
        "\n",
        "# 2. Создайте новую переменную с любым текстом\n",
        "new_text = \"Hey,stranger!\"\n",
        "print(new_text)\n",
        "\n",
        "# 3. Запишите new_text в greet_text\n",
        "greet_text = new_text\n",
        "print(greet_text)\n",
        "\n",
        "# 4. А теперь мы изменим свойства new_text\n",
        "new_text += \" Wow!\"\n",
        "print(new_text)"
      ],
      "metadata": {
        "colab": {
          "base_uri": "https://localhost:8080/"
        },
        "id": "NCMXxvYhJTtd",
        "outputId": "85faf92d-6e9d-4c44-f943-7d8451b2a64d"
      },
      "execution_count": 16,
      "outputs": [
        {
          "output_type": "stream",
          "name": "stdout",
          "text": [
            "Hello, World!\n",
            "Hi,buddy!\n",
            "Hey,stranger!\n",
            "Hey,stranger!\n",
            "Hey,stranger! Wow!\n"
          ]
        }
      ]
    },
    {
      "cell_type": "code",
      "source": [
        "greet_text = \"Привет, \"\n",
        "print (greet_text)\n",
        "\n",
        "\n",
        "name = \"Анна!\"\n",
        "greet_text += name\n",
        "print (greet_text)\n",
        "name = \"Анна\"\n",
        "surname = \" Смирнова\"\n",
        "name += surname\n",
        "print (name)\n",
        "age = 25\n",
        "print (\"User:\", name)\n",
        "print(\"Age:\", age)"
      ],
      "metadata": {
        "colab": {
          "base_uri": "https://localhost:8080/"
        },
        "id": "NiYIWPSZLG4c",
        "outputId": "18a7c954-3c06-403f-e465-aac1d6083f7f"
      },
      "execution_count": 20,
      "outputs": [
        {
          "output_type": "stream",
          "name": "stdout",
          "text": [
            "Привет, \n",
            "Привет, Анна!\n",
            "Анна Смирнова\n",
            "User: Анна Смирнова\n",
            "Age: 25\n"
          ]
        }
      ]
    },
    {
      "cell_type": "code",
      "source": [
        "greet_text = input (\"Введите приветствие:\")\n",
        "print (greet_text +\"\\n\")\n",
        "\n",
        "\n",
        "name = input (\"Введите имя:\")\n",
        "print (name + \"\\n\")\n",
        "\n",
        "\n",
        "\n",
        "greet_text += name\n",
        "print (greet_text)\n",
        "\n",
        "\n",
        "surname = input (\"Введите фамилию: \")\n",
        "name += surname\n",
        "print (name)\n",
        "\n",
        "\n",
        "age = input(\"Возраст: \")\n",
        "print (greet, name)\n",
        "print(age)"
      ],
      "metadata": {
        "colab": {
          "base_uri": "https://localhost:8080/"
        },
        "id": "i7uRdKB6LeQP",
        "outputId": "188de20a-8bf5-4ce3-a840-39a5dd0a7792"
      },
      "execution_count": 24,
      "outputs": [
        {
          "output_type": "stream",
          "name": "stdout",
          "text": [
            "Введите приветствие:Привет,\n",
            "Привет,\n",
            "\n",
            "Введите имя:Аня\n",
            "Аня\n",
            "\n",
            "Привет,Аня\n",
            "Введите фамилию: Иванова\n",
            "АняИванова\n",
            "Возраст: 22\n",
            "Привет,  АняИванова\n",
            "22\n"
          ]
        }
      ]
    }
  ]
}